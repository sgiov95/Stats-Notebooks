{
 "cells": [
  {
   "cell_type": "code",
   "execution_count": 19,
   "metadata": {},
   "outputs": [],
   "source": [
    "import numpy as np\n",
    "import pandas as pd\n",
    "import matplotlib.pyplot as plt\n",
    "import seaborn as sns"
   ]
  },
  {
   "cell_type": "markdown",
   "metadata": {},
   "source": [
    "Let's look at an example with a Markov Chain with the following transition matrix:"
   ]
  },
  {
   "cell_type": "code",
   "execution_count": 20,
   "metadata": {},
   "outputs": [
    {
     "data": {
      "text/plain": [
       "array([[0.5, 0.3, 0.2],\n",
       "       [0.5, 0.3, 0.2],\n",
       "       [0.5, 0.3, 0.2]])"
      ]
     },
     "execution_count": 20,
     "metadata": {},
     "output_type": "execute_result"
    }
   ],
   "source": [
    "A = np.tile([.5,.3,.2],3).reshape((3,3))\n",
    "A"
   ]
  },
  {
   "cell_type": "markdown",
   "metadata": {},
   "source": [
    "And the following observation matrix and sample transition matrix:"
   ]
  },
  {
   "cell_type": "code",
   "execution_count": 21,
   "metadata": {},
   "outputs": [
    {
     "data": {
      "text/plain": [
       "array([[0.3255814 , 0.39534884, 0.27906977],\n",
       "       [0.52054795, 0.20547945, 0.2739726 ],\n",
       "       [0.47252747, 0.34065934, 0.18681319]])"
      ]
     },
     "execution_count": 21,
     "metadata": {},
     "output_type": "execute_result"
    }
   ],
   "source": [
    "O = np.array([[14,17,12],\n",
    "              [38,15,20],\n",
    "              [43,31,17]])\n",
    "A_hat = O / np.tile(O.sum(axis=1),3).reshape((3,3)).transpose()\n",
    "A_hat"
   ]
  },
  {
   "cell_type": "markdown",
   "metadata": {},
   "source": [
    "How unusual is this in likelihood? Can we reject $H_0$ that this sequence is sequentially independent ? Let's pick a alpha value of $\\alpha = .05$ and simulate how likely this is by using a Likelihood Ratio Test:"
   ]
  },
  {
   "cell_type": "code",
   "execution_count": 22,
   "metadata": {},
   "outputs": [
    {
     "name": "stdout",
     "output_type": "stream",
     "text": [
      "10.364368488739826\n"
     ]
    }
   ],
   "source": [
    "def sts(O,A,A_hat):\n",
    "    return -2*np.sum(O*np.log(A/A_hat))\n",
    "ts = sts(O,A,A_hat)\n",
    "print(ts)"
   ]
  },
  {
   "cell_type": "markdown",
   "metadata": {},
   "source": [
    "Let's simulate the result:"
   ]
  },
  {
   "cell_type": "code",
   "execution_count": 27,
   "metadata": {},
   "outputs": [
    {
     "name": "stdout",
     "output_type": "stream",
     "text": [
      "[2 0 1 0 0 2 1 0 2 0]\n",
      "[[1. 1. 2.]\n",
      " [2. 0. 0.]\n",
      " [2. 1. 0.]]\n"
     ]
    }
   ],
   "source": [
    "simsize = 10000\n",
    "ts_values = np.zeros(simsize)\n",
    "\n",
    "#function for a markov chain simulation\n",
    "def dtmc(n,A,c,x0=None):\n",
    "    m = A.shape[0]\n",
    "    x = np.zeros(n,dtype=int)\n",
    "    if x0 is None:\n",
    "        prob = c\n",
    "        x0 = np.random.choice(m,size=1,p=prob)\n",
    "    x[0] = int(x0)\n",
    "    prev = x[0]\n",
    "    for i in range(1,n):\n",
    "        prob = A[prev,:]\n",
    "        x[i] = np.random.choice(m,size=1,p=prob)\n",
    "        prev = x[i]\n",
    "    return x\n",
    "    \n",
    "#sample matrix constructor\n",
    "def observation_matrix(A,x):\n",
    "    m = len(x)-1\n",
    "    c = A.shape[0]\n",
    "    O = np.zeros((c,c))\n",
    "    for t in range(m):\n",
    "        for i in range(c):\n",
    "            if x[t] == i:\n",
    "                for j in range(c):\n",
    "                    if x[t+1] == j:\n",
    "                        O[i,j] += 1\n",
    "    return O\n",
    "\n",
    "#test 1\n",
    "c = A.shape[0]\n",
    "p = np.ones(c)/c\n",
    "x = dtmc(10,A,p)\n",
    "print(x)\n",
    "#test 2\n",
    "print(observation_matrix(A,x))"
   ]
  },
  {
   "cell_type": "markdown",
   "metadata": {},
   "source": [
    "Ok, let's do a simulation now to test for beta:"
   ]
  },
  {
   "cell_type": "code",
   "execution_count": 30,
   "metadata": {},
   "outputs": [
    {
     "name": "stderr",
     "output_type": "stream",
     "text": [
      "C:\\Users\\Sebastian\\Anaconda3plus\\lib\\site-packages\\ipykernel_launcher.py:2: RuntimeWarning: divide by zero encountered in true_divide\n",
      "  \n",
      "C:\\Users\\Sebastian\\Anaconda3plus\\lib\\site-packages\\ipykernel_launcher.py:2: RuntimeWarning: invalid value encountered in multiply\n",
      "  \n"
     ]
    },
    {
     "data": {
      "text/plain": [
       "(array([ 64., 193., 348., 529., 570., 678., 690., 734., 667., 729., 650.,\n",
       "        554., 510., 448., 425., 359., 274., 281., 182., 187., 162., 129.,\n",
       "        104., 103.,  70.,  53.,  58.,  47.,  47.,  24.,  26.,  15.,  11.,\n",
       "         17.,   6.,  14.,   7.,   6.,   6.,   2.,   6.,   0.,   1.,   2.,\n",
       "          0.,   0.,   0.,   1.,   0.,   1.]),\n",
       " array([ 0.2130476 ,  0.75531709,  1.29758657,  1.83985605,  2.38212554,\n",
       "         2.92439502,  3.4666645 ,  4.00893399,  4.55120347,  5.09347295,\n",
       "         5.63574244,  6.17801192,  6.7202814 ,  7.26255089,  7.80482037,\n",
       "         8.34708985,  8.88935934,  9.43162882,  9.9738983 , 10.51616779,\n",
       "        11.05843727, 11.60070675, 12.14297624, 12.68524572, 13.2275152 ,\n",
       "        13.76978469, 14.31205417, 14.85432365, 15.39659314, 15.93886262,\n",
       "        16.4811321 , 17.02340159, 17.56567107, 18.10794055, 18.65021004,\n",
       "        19.19247952, 19.734749  , 20.27701849, 20.81928797, 21.36155745,\n",
       "        21.90382694, 22.44609642, 22.9883659 , 23.53063539, 24.07290487,\n",
       "        24.61517435, 25.15744384, 25.69971332, 26.2419828 , 26.78425229,\n",
       "        27.32652177]),\n",
       " <a list of 50 Patch objects>)"
      ]
     },
     "execution_count": 30,
     "metadata": {},
     "output_type": "execute_result"
    },
    {
     "data": {
      "image/png": "[encoded data removed]",
      "text/plain": [
       "<Figure size 432x288 with 1 Axes>"
      ]
     },
     "metadata": {
      "needs_background": "light"
     },
     "output_type": "display_data"
    }
   ],
   "source": [
    "n = np.sum(O) + 1\n",
    "#function to simulate samples\n",
    "def simulate_mcs(simsize,n,A,B):\n",
    "    test_stat = np.zeros(simsize)\n",
    "    c = A.shape[0]\n",
    "    p = np.ones(c)/c\n",
    "    for i in range(simsize):\n",
    "        x = dtmc(n,B,p)\n",
    "        O = observation_matrix(A,x)\n",
    "        A_hat = O / np.tile(O.sum(axis=1),c).reshape((c,c)).transpose()\n",
    "        test_stat[i] = sts(O,A,A_hat)\n",
    "    return test_stat\n",
    "test_stat = simulate_mcs(simsize,n,A,A)\n",
    "plt.hist(test_stat,bins=50)"
   ]
  },
  {
   "cell_type": "markdown",
   "metadata": {},
   "source": [
    "Since our null model has 3-1 = 2 degrees of freedom and our full model has $3^2 - 1$ = 8 degrees of freedom, then this should be distributed according to a $\\chi_{df=8-2=6}^2$ distribution:"
   ]
  },
  {
   "cell_type": "code",
   "execution_count": 29,
   "metadata": {},
   "outputs": [
    {
     "data": {
      "text/plain": [
       "(array([ 91., 231., 445., 588., 688., 745., 772., 787., 730., 684., 591.,\n",
       "        559., 492., 424., 372., 271., 273., 225., 187., 146., 128., 112.,\n",
       "         85.,  72.,  58.,  51.,  47.,  28.,  32.,  16.,  10.,   7.,  16.,\n",
       "          3.,   8.,   7.,   5.,   5.,   2.,   2.,   0.,   1.,   0.,   0.,\n",
       "          2.,   0.,   0.,   1.,   0.,   1.]),\n",
       " array([ 0.23437633,  0.80422692,  1.37407751,  1.94392811,  2.5137787 ,\n",
       "         3.08362929,  3.65347988,  4.22333048,  4.79318107,  5.36303166,\n",
       "         5.93288226,  6.50273285,  7.07258344,  7.64243404,  8.21228463,\n",
       "         8.78213522,  9.35198582,  9.92183641, 10.491687  , 11.06153759,\n",
       "        11.63138819, 12.20123878, 12.77108937, 13.34093997, 13.91079056,\n",
       "        14.48064115, 15.05049175, 15.62034234, 16.19019293, 16.76004353,\n",
       "        17.32989412, 17.89974471, 18.4695953 , 19.0394459 , 19.60929649,\n",
       "        20.17914708, 20.74899768, 21.31884827, 21.88869886, 22.45854946,\n",
       "        23.02840005, 23.59825064, 24.16810124, 24.73795183, 25.30780242,\n",
       "        25.87765301, 26.44750361, 27.0173542 , 27.58720479, 28.15705539,\n",
       "        28.72690598]),\n",
       " <a list of 50 Patch objects>)"
      ]
     },
     "execution_count": 29,
     "metadata": {},
     "output_type": "execute_result"
    },
    {
     "data": {
      "image/png": "[encoded data removed]",
      "text/plain": [
       "<Figure size 432x288 with 1 Axes>"
      ]
     },
     "metadata": {
      "needs_background": "light"
     },
     "output_type": "display_data"
    }
   ],
   "source": [
    "import scipy.stats as ss\n",
    "plt.hist(ss.chi2(df=6).rvs(size=simsize),bins=50)"
   ]
  },
  {
   "cell_type": "markdown",
   "metadata": {},
   "source": [
    "Let's look at where this p-value and critical region is:"
   ]
  },
  {
   "cell_type": "code",
   "execution_count": 63,
   "metadata": {},
   "outputs": [
    {
     "data": {
      "text/plain": [
       "12.886883192913714"
      ]
     },
     "execution_count": 63,
     "metadata": {},
     "output_type": "execute_result"
    }
   ],
   "source": [
    "np.sort(test_stat)[9500]"
   ]
  },
  {
   "cell_type": "markdown",
   "metadata": {},
   "source": [
    "So in this case, we would NOT reject the test statistic. In this case, we want to find some index that's sorted such that our p-value is close to that value:"
   ]
  },
  {
   "cell_type": "code",
   "execution_count": 68,
   "metadata": {},
   "outputs": [
    {
     "data": {
      "text/plain": [
       "10.359815368473209"
      ]
     },
     "execution_count": 68,
     "metadata": {},
     "output_type": "execute_result"
    }
   ],
   "source": [
    "np.sort(test_stat)[8830]"
   ]
  },
  {
   "cell_type": "markdown",
   "metadata": {},
   "source": [
    "So our p-value here is roughly 1-.883 = .117. "
   ]
  },
  {
   "cell_type": "code",
   "execution_count": 69,
   "metadata": {},
   "outputs": [
    {
     "data": {
      "text/plain": [
       "12.591587243743977"
      ]
     },
     "execution_count": 69,
     "metadata": {},
     "output_type": "execute_result"
    }
   ],
   "source": [
    "ss.chi2(df=6).ppf(.95)"
   ]
  },
  {
   "cell_type": "markdown",
   "metadata": {},
   "source": [
    "So this is relatively close to the desired distribution. "
   ]
  },
  {
   "cell_type": "code",
   "execution_count": 70,
   "metadata": {},
   "outputs": [
    {
     "data": {
      "text/plain": [
       "17.220592648903857"
      ]
     },
     "execution_count": 70,
     "metadata": {},
     "output_type": "execute_result"
    }
   ],
   "source": [
    "np.sort(test_stat)[9900]"
   ]
  },
  {
   "cell_type": "code",
   "execution_count": 71,
   "metadata": {},
   "outputs": [
    {
     "data": {
      "text/plain": [
       "16.811893829770927"
      ]
     },
     "execution_count": 71,
     "metadata": {},
     "output_type": "execute_result"
    }
   ],
   "source": [
    "ss.chi2(df=6).ppf(.99)"
   ]
  },
  {
   "cell_type": "markdown",
   "metadata": {},
   "source": [
    "So would this imply that Wilk's Theorem applies to something like statistical testing for sequential independence ? Maybe. Now, what about statistical power?"
   ]
  },
  {
   "cell_type": "code",
   "execution_count": 72,
   "metadata": {},
   "outputs": [
    {
     "data": {
      "text/plain": [
       "(array([ 11.,  21.,  42.,  89., 150., 213., 334., 375., 484., 540., 601.,\n",
       "        639., 652., 604., 677., 606., 592., 532., 464., 417., 373., 290.,\n",
       "        249., 205., 194., 162.,  85.,  94.,  59.,  66.,  43.,  32.,  23.,\n",
       "         22.,  21.,   8.,   7.,   4.,   2.,   5.,   2.,   3.,   2.,   0.,\n",
       "          1.,   1.,   1.,   2.,   0.,   1.]),\n",
       " array([ 2.02726866,  3.32128411,  4.61529956,  5.909315  ,  7.20333045,\n",
       "         8.4973459 ,  9.79136135, 11.0853768 , 12.37939224, 13.67340769,\n",
       "        14.96742314, 16.26143859, 17.55545403, 18.84946948, 20.14348493,\n",
       "        21.43750038, 22.73151583, 24.02553127, 25.31954672, 26.61356217,\n",
       "        27.90757762, 29.20159306, 30.49560851, 31.78962396, 33.08363941,\n",
       "        34.37765486, 35.6716703 , 36.96568575, 38.2597012 , 39.55371665,\n",
       "        40.84773209, 42.14174754, 43.43576299, 44.72977844, 46.02379389,\n",
       "        47.31780933, 48.61182478, 49.90584023, 51.19985568, 52.49387112,\n",
       "        53.78788657, 55.08190202, 56.37591747, 57.66993292, 58.96394836,\n",
       "        60.25796381, 61.55197926, 62.84599471, 64.14001015, 65.4340256 ,\n",
       "        66.72804105]),\n",
       " <a list of 50 Patch objects>)"
      ]
     },
     "execution_count": 72,
     "metadata": {},
     "output_type": "execute_result"
    },
    {
     "data": {
      "image/png": "[encoded data removed]",
      "text/plain": [
       "<Figure size 432x288 with 1 Axes>"
      ]
     },
     "metadata": {
      "needs_background": "light"
     },
     "output_type": "display_data"
    }
   ],
   "source": [
    "test_stat2 = simulate_mcs(simsize,n,A,A_hat)\n",
    "plt.hist(test_stat2,bins=50)"
   ]
  }
 ],
 "metadata": {
  "kernelspec": {
   "display_name": "Python 3",
   "language": "python",
   "name": "python3"
  },
  "language_info": {
   "codemirror_mode": {
    "name": "ipython",
    "version": 3
   },
   "file_extension": ".py",
   "mimetype": "text/x-python",
   "name": "python",
   "nbconvert_exporter": "python",
   "pygments_lexer": "ipython3",
   "version": "3.7.3"
  }
 },
 "nbformat": 4,
 "nbformat_minor": 2
}
