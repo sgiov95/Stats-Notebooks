{
 "cells": [
  {
   "cell_type": "code",
   "execution_count": 445,
   "metadata": {},
   "outputs": [],
   "source": [
    "import numpy as np\n",
    "import pandas as pd\n",
    "import matplotlib.pyplot as plt\n",
    "import seaborn as sns\n",
    "import scipy.stats as ss\n",
    "import scipy.special as sp"
   ]
  },
  {
   "attachments": {},
   "cell_type": "markdown",
   "metadata": {},
   "source": [
    "Hello everyone. This is going to be the first of many Jupyter notebooks I plan to release from my computer, dealing with statistical theory and methods, probability, programming, and adjacent topics. I will also put concepts to the test with either actual data or simulated data. The goals here are to answer questions, provide useful code snippets, and give you a better idea of what to do with your data / experiments, as well as give a brief survey into the ideas and history involved in Statistics.\n",
    "\n",
    "This first notebook will explain Goodness of Fit tests and the Multinomial Framework, Likelihood Ratio Tests and the resultant Chi Squared and G Statistics, which are essential in testing frequencies for fit or testing for association between categorical or discrete variables. Also going to simulate ideal datasets to contrast the two test statistics.\n",
    "\n",
    "The basic Chi-Squared Test for Goodness of Fit is a generalization of Z and T tests for Proportions. Usually, the Chi-Squared Statistic is used as the Test Statistic, defined as:\n",
    "\n",
    "${\\chi}^2 = \\Sigma_i \\frac{(O_i - E_i)^2}{E_i}$\n",
    "\n",
    "Here, $O_i$ is the number of observations in the sample in class i, for i = 1,2,...,r, where r is the number of classes or categories present. In this case, the categories are exclusive, meaning that for each person or thing that is randomly sampled, only one category can be chosen. $E_i = Np_i$ is the expected cell count for class i, which in a random sample, is just the sample size, N, multiplied by the probability under $H_0$ for class i. When we have only 2 categories, in the case of a Yes or No question in a sample, we would expect that if the probability under $H_0$ is correct, then the expected cell count is $E_i$. So for a binary choice, we have expected values $Np$ and $N(1-p)$. Likewise, any amount that doesn't go to one cell will fall into the other cell, since the two numbers must add up to N. Typically, for proportions, this yields a Z-statistic, which we can test relatively easily, however, the true distribution for the discrete count of 'Yes' values in our sample is a Binomial Distribution (I'll make a notebook for that specifically comparing the Binomial and Negative Binomial Tests, compared on their Power, later on). We use a Z statistic rather than attempting to use a Binomial Distribution, especially for large enough sample sizes, because the Z distribution provides a decently accurate approximation of our true distribution under $H_0$.\n",
    "\n",
    "For the case where we have more than two categories in our sample, as is the case where we don't have a Simple 'Y/N' question (ex. polling the general public on which Democratic or Republican Candidate will win their party's primary nomination), we use the Chi-Squared Statistic instead, although we can also use it for the case where we have a binary response as well. In this way, the Z/Normal Distribution and the Chi Squared Distribution are related. We typically encounter the Chi Squared Test during our first stats class, either in High School or in College, although some people taking more advanced biology courses may encounter the test in that class as well. For example:\n",
    "\n",
    "-Gallup polls a random sample of 100 Florida Voters registered to the Democratic Party on who they would prefer as their party's candidate for governor in 2022. Three options are given- Charlie Crist, Nikki Fried, and Cadance Daniel. We want to know if they prefer one candidate over the others, and our sample results in the following counts:\n",
    "\n",
    "1. 50 votes for Crist\n",
    "2. 30 votes for Fried\n",
    "3. 20 votes for Daniel\n",
    "\n",
    "Right off the bat, it appears that our random sample of voters clearly prefer one candidate, but since we asked only a random sample of people, and Florida has tens of millions of democratic voters, we need a way to figure out if this difference is due to actual preferences or merely due to chance. Here, our null hypothesis is $H_0: p_{crist} = p_{fried} = p_{daniel} = \\frac{1}{3}$, meaning that we are working from the initial assumption that all candidates are equally popular. This might not be the consensus, in which case, we can easily adjust our null hypothesis, but let's just assume for the sake of argument that it is. Therefore, we would expect each cell count to be, on average, $Np_i$ = 100/3 ~ 33.33. Does this sample give us enough evidence to say that this is in fact, true?"
   ]
  },
  {
   "cell_type": "code",
   "execution_count": 446,
   "metadata": {},
   "outputs": [],
   "source": [
    "#function for computing the chi square statistic\n",
    "def Chi_Sq(x,n,p):\n",
    "    return np.sum(((x-n*p)**2)/(n*p))\n",
    "\n",
    "#x is our sample cell counts\n",
    "x = np.array([50,30,20])\n",
    "#c is our number of cells, p is our null probability, n our sample size\n",
    "c = 3\n",
    "n = 100\n",
    "p = np.ones(c)/c"
   ]
  },
  {
   "cell_type": "markdown",
   "metadata": {},
   "source": [
    "Well, before we compute a Test-statistic, we also need a Confidence / Alpha value- the lower alpha is, the smaller the chance that we will reject $H_0$ based on chance alone, and this will also yield a Critical Value for the test- the value for our test statistic above which we reject $H_0$. We will talk more about this distribution in a little bit, but the Critical Value of our Test Statistic under $H_0$ should depend only on the 'meta-data' of our sample- the sample size, and the number of choices or categories, and not on the sample itself, for if it is a true random sample of 100 Registered Democrat Voters in the State of Florida, then each response should be independent of other responses. In this case, since we have 3 choices, we therefore have 3-1=2 degrees of freedom (denoted 'df'). And so our Test Statistic has a $\\chi_{df=2}^2$ distribution! So if we picked an $\\alpha$ value of .05, we therefore get a Critical value of:"
   ]
  },
  {
   "cell_type": "code",
   "execution_count": 447,
   "metadata": {},
   "outputs": [
    {
     "name": "stdout",
     "output_type": "stream",
     "text": [
      "5.991464547107979\n"
     ]
    }
   ],
   "source": [
    "alpha=.05\n",
    "crit_val = ss.chi2(df=2).ppf(1-alpha)\n",
    "print(crit_val)"
   ]
  },
  {
   "cell_type": "markdown",
   "metadata": {},
   "source": [
    "We are now ready to conduct the test! None of the cells have a value of 0, and each Here, the more 'off' the true proportion is from the neutral one in $H_0$, the higher the values of $\\frac{(O_i - E_i)^2}{E_i}$ are going to be, and since the statistic consists of adding these three cells up, the higher the value of the Chi-Squared Statistic will be. However, note that since our expected value for each cells is NOT a whole number here, the smallest value possible for the statistic is technically:"
   ]
  },
  {
   "cell_type": "code",
   "execution_count": 448,
   "metadata": {},
   "outputs": [
    {
     "name": "stdout",
     "output_type": "stream",
     "text": [
      "0.020000000000000004\n"
     ]
    }
   ],
   "source": [
    "print(Chi_Sq(np.array([33,33,34]),n,p))"
   ]
  },
  {
   "cell_type": "markdown",
   "metadata": {},
   "source": [
    "While this is really close to 0, it is NOT 0. This is because, just like the binomial distribution and the Z-test approximation to that, the Chi-Squared Statistic is also an approximation. We will later check and see if there is a significant deviation really, but let's run the test and come up with an answer to our little test scenario here:"
   ]
  },
  {
   "cell_type": "code",
   "execution_count": 449,
   "metadata": {},
   "outputs": [
    {
     "name": "stdout",
     "output_type": "stream",
     "text": [
      "14.000000000000002\n"
     ]
    }
   ],
   "source": [
    "print(Chi_Sq(x,n,p))"
   ]
  },
  {
   "cell_type": "markdown",
   "metadata": {},
   "source": [
    "So, since this number exceeds our Critical Value, we have, at a 5% alpha level, sufficient evidence to reject the claim that all voters are neutral towards their three nominee options. In other words, this specific result is determined to not be a result of chance alone!\n",
    "\n",
    "So looking back, it does seem strange that our test statistic can't go to 0 here. When we randomly select a sample of 100 people from a large population, in the millions, a very specific distribution arises- The Multinomial Distribution, which is a generalization of the Binomial Distribution but with an arbitrary ($\\geq 2$) number of choices or categories. This is the a true statistical distribution rather than a approximation, in the sense that, if we did our sampling correctly and it truly is a random sample from the population, this distribution contains the true probabilities that will arise, much like if we select a random card from a shuffled deck, and note down what suit it is, over and over and over again, shuffling the deck each time, the true proportion of cards in each suit will be $\\frac{1}{4}$. However, with the Chi-Squared Statistic Specifically, there is more to the story. It turns out, if we apply statistical theory, which would typically be taught in a upper-level undergrad course in Statistical Theory or Probability Theory, we can show that there are many convenient approximations being made, apart from the Multinomial Distribution being a Discrete Distribution, versus the Chi-Squared Distribution, which is continuous.\n",
    "\n",
    "It turns out that the Chi-Squared Statistic is actually a Taylor Approximation to the true statistic, denoted the G-statistic, which is derived from the Likelihood Ratio Test. The fact that these functions of each cell's total and their expected values seemingly result in something as nice as the Chi-squared Statistic, which is basically the sum of Squares of INDEPENDENT Standardized Normal Variables, is the result of two or three statistical theorems, which one would typically learn in a Mathematical Statistics graduate course:\n",
    "\n",
    "1. Cochran's Theorem, justifying the degrees of freedom, in conjunction to\n",
    "2. Wilk's Theorem, justifying the use of a Chi Squared Distribution for a Likelihood Ratio Test\n",
    "3. Past Implementation Considerations- in particular, the fact that logarithms weren't really a thing in most calculators for a while, so simpler methods were usually preferred\n",
    "\n",
    "The purpose of this notebook is to derive the G-Statistic in the framework of Likelihood Ratio Tests (which were developed by Jerzy Neyman in the 1940's, around the time that the first electric calculators became a thing), show that the Chi-Squared Statistic is a reasonable approximation to this, and then seeing if the two are decent approximations of one another. So let's set that test scenario up, first by setting up our random seed:"
   ]
  },
  {
   "cell_type": "code",
   "execution_count": 450,
   "metadata": {},
   "outputs": [],
   "source": [
    "np.random.seed(1738)"
   ]
  },
  {
   "cell_type": "markdown",
   "metadata": {},
   "source": [
    "First off, the Multinomial Distribution. If we have c classes of people or objects or things, and these classes are mutually exclusive and exhaustive, meaning that no person prefers two different choices, or is indifferent between two choices, and also that the list of choices that are given are all the choices present, then selecting a random sample of size n, WITH replacement, and jotting down the counts for each class, in essence tallying up a vote, will yield a Multinomial Distribution with parameters n, a positive integer representing the sample size, and p, a c-dimensional probability vector, with each entry being a positive number between 0 and 1 and adding up to 1. In this sense, while the sample itself might be random, the cell values are not independent from one another, as if we have more in one cell, holding the sample size equal, that must therefore mean that there's less to go around for the other cells. \n",
    "\n",
    "The Multinomial Distribution results in a random c-dimensional vector where each entry is a positive integer, and all the entries add up to n, the sample size. Now, when discussing 'how unusual' this particular combination of values are given $H_0$, which is neutral in our example with the three nominees, it is useful to compute the likelihood. The Probability of a particular case is given by:\n",
    "\n",
    "$P(O_1,0_2,...,O_c)$ = $\\binom{n}{O_1,O_2,...,O_c}$$(p_1)^{O_1}$$(p_2)^{O_2}$...$(p_c)^{O_c}$\n",
    "\n",
    "Here, $\\binom{n}{O_1,O_2,...,O_c}$ is known as the Multinomial Coefficient, which is the total number combinations for a specific value of our sample counts,x possible. So for our particular sample, we get:\n",
    "\n",
    "$P(50,30,20)$ = $\\binom{100}{50,30,20}$$(\\frac{1}{3})^{50}$$(\\frac{1}{3})^{30}$$(\\frac{1}{3})^{20}$\n",
    "\n",
    "Which is equal to:"
   ]
  },
  {
   "cell_type": "code",
   "execution_count": 451,
   "metadata": {},
   "outputs": [
    {
     "name": "stdout",
     "output_type": "stream",
     "text": [
      "9.226109792124319e-06\n"
     ]
    }
   ],
   "source": [
    "#function for multinomial coefficients\n",
    "def multnom(n,k):\n",
    "    m = len(k)\n",
    "    u = 1\n",
    "    for i in range(m):\n",
    "        u *= sp.factorial(k[i])\n",
    "    return int(sp.factorial(n) / u)\n",
    "\n",
    "#probability\n",
    "prob = multnom(n,x)*np.prod(p**x)\n",
    "print(prob)"
   ]
  },
  {
   "cell_type": "markdown",
   "metadata": {},
   "source": [
    "This seems like a very unlikely event, and it is, just on it's own. However, note that there are a lot of different ways that we can arrange these cell counts so that they add up to 100. The total number of ways that we can set this up, including cases where some cell counts are 0, are given by the Method of Stars and Bars as:\n",
    "\n",
    "$\\binom{n+c-1}{c-1}$ = $\\binom{100+3-1}{3-1}$ = $\\binom{102}{2}$ = $\\frac{102*101}{2}$ "
   ]
  },
  {
   "cell_type": "code",
   "execution_count": 452,
   "metadata": {},
   "outputs": [
    {
     "name": "stdout",
     "output_type": "stream",
     "text": [
      "5151.0\n"
     ]
    }
   ],
   "source": [
    "print(sp.binom(102,2))"
   ]
  },
  {
   "cell_type": "markdown",
   "metadata": {},
   "source": [
    "Since there are over 5000 different possibilities here, this is not that feasible. Also, consider if the cell count was (33,33,34), which we can agree is the closest count to our neutral null hypothesis stipulation, and the closest to our expected values. In this case, the likelihood is:"
   ]
  },
  {
   "cell_type": "code",
   "execution_count": 453,
   "metadata": {},
   "outputs": [
    {
     "name": "stdout",
     "output_type": "stream",
     "text": [
      "0.008134712430416262\n"
     ]
    }
   ],
   "source": [
    "y = np.array([33,33,34])\n",
    "print(multnom(n,y)*np.prod(p**y))"
   ]
  },
  {
   "cell_type": "markdown",
   "metadata": {},
   "source": [
    "This is also a small probability, albeit 3 orders of magnitude more than our sample. So how do we use this framework to derive the Chi-Squared Test and figure out if the result is likely to be by chance ? This is where Likelihood Ratio Tests (LRT for short) and Wilk's Theorem come in. We can compare the likelihood of our sample given that the null hypothesis is true versus if it is untrue and come up with some test so that if the difference is large enough, it's indicative of a difference from the null hypothesis in our random sample, and we assume, the population that we sampled from. \n",
    "\n",
    "We've already see the maximum likelihood for the null hypothesis- it's that very small probability, denoted 'prob'. However, what do we do to address the alternative hypothesis? Well, it turns out that we can try to find probability vector q that maximizes the likelihood, given our sample cell counts, $O_1,...,O_3$. The result, which can be shown using Lagrangian Multipiers, is given as $q_i = \\frac{o_i}{n}$. This yields the likelihood:\n",
    "\n",
    "$P(O_1,0_2,...,O_c)$ = $\\binom{n}{O_1,O_2,...,O_c}$$(\\frac{O_1}{n})^{O_1}$$(\\frac{O_2}{n})^{O_2}$...$(\\frac{O_c}{n})^{O_c}$\n",
    "\n",
    "And in our specific case, yields a maximum likelihood of:"
   ]
  },
  {
   "cell_type": "code",
   "execution_count": 454,
   "metadata": {},
   "outputs": [
    {
     "name": "stdout",
     "output_type": "stream",
     "text": [
      "0.009117627855880642\n"
     ]
    }
   ],
   "source": [
    "#probability\n",
    "prob_alt = multnom(n,x)*np.prod((x/n)**x)\n",
    "print(prob_alt)"
   ]
  },
  {
   "attachments": {
    "gtest2.PNG": {
     "image/png": "[encoded data removed]"
    }
   },
   "cell_type": "markdown",
   "metadata": {},
   "source": [
    "Now, if we want to compare two very small numbers which are very often close to 0, it makes sense to use a ratio rather than a difference. This alternative maximum likelihood is far higher than our likelihood if the null hypothesis were true. So we can form a ratio:\n",
    "\n",
    "$\\lambda$ = $\\frac{P(O_1,...,O_c | H_0)}{P(O_1,...,O_c | H_{\\alpha})}$\n",
    "\n",
    "Wilk's Theorem states that, given a decently large sample size, the distribution of $-2*log(\\lambda)$ will tend to a Chi-Squared Distribution with c-1 degrees of freedom. The reason why we have c-1 degrees of Freedom is Cochran's Theorem- since the cell counts must add up to the total sample size, then this takes away one degree of freedom. But while Wilk's Theorem may be an asymptotic result, where we are approximating this distribution, it turns out to be the the simplest test with the highest power, per Neyman's Theorem. Again, all of these theorems are from Graduate Statistics, and the proof isn't necessarily all that interesting in our case. \n",
    "\n",
    "What is left is then deriving the test statistic, which the Wikipedia page for the G-Test does very nicely:\n",
    "\n",
    "![gtest2.PNG](attachment:gtest2.PNG)"
   ]
  },
  {
   "cell_type": "code",
   "execution_count": 455,
   "metadata": {},
   "outputs": [
    {
     "name": "stdout",
     "output_type": "stream",
     "text": [
      "13.791854920707266\n"
     ]
    }
   ],
   "source": [
    "#function for the G-statistic\n",
    "def G_Stat(x,n,p):\n",
    "    return 2*np.sum(x*np.log(x/(n*p)),where=(x>0))\n",
    "print(G_Stat(x,n,p))"
   ]
  },
  {
   "attachments": {
    "gtesting1.PNG": {
     "image/png": "[encoded data removed]"
    }
   },
   "cell_type": "markdown",
   "metadata": {},
   "source": [
    "Note that this is very similar to our Chi-Squared Statistic value of 14, and the test would still reject this result. However, it isn't the same thing, just a approximation that doesn't involve the natural logarithm and hence was easier to compute and conceptualize before the time of programming and handheld, widely available, cheap calculators with those capabilities. While both Test Statistics use Wilk's Theorem and Cochran's Theorem, the G Statistic is naturally 'closer' to the real answer. The derivation of the Chi-Squared Statistic, while easier to compute, involves a decent deal of mathematics, namely, power series for the natural logarithm, AKA the Mercator Series:\n",
    "\n",
    "![gtesting1.PNG](attachment:gtesting1.PNG)"
   ]
  },
  {
   "cell_type": "markdown",
   "metadata": {},
   "source": [
    "Now, we need to find a way to test these two approximations against each other. First, the case where $H_0$ is true. So let's generate 10,000 random samples of 100 from the distribution specified in the null hypothesis:"
   ]
  },
  {
   "cell_type": "code",
   "execution_count": 456,
   "metadata": {},
   "outputs": [
    {
     "data": {
      "text/plain": [
       "<seaborn.axisgrid.JointGrid at 0x1daa27fd3c8>"
      ]
     },
     "execution_count": 456,
     "metadata": {},
     "output_type": "execute_result"
    },
    {
     "data": {
      "image/png": "[encoded data removed]",
      "text/plain": [
       "<Figure size 432x432 with 3 Axes>"
      ]
     },
     "metadata": {
      "needs_background": "light"
     },
     "output_type": "display_data"
    }
   ],
   "source": [
    "simsize = 10000\n",
    "cstat = np.zeros(simsize)\n",
    "gstat = np.zeros(simsize)\n",
    "for i in range(simsize):\n",
    "    x = np.random.multinomial(n,pvals=p,size=1) \n",
    "    cstat[i] = Chi_Sq(x,n,p)\n",
    "    gstat[i] = G_Stat(x,n,p)\n",
    "    \n",
    "sns.jointplot(cstat,gstat,alpha=.1)"
   ]
  },
  {
   "cell_type": "markdown",
   "metadata": {},
   "source": [
    "On the x-axis, we have the Chi-Squared Statistic, and on the y-axis, the G-Statistic. These are paired on the same sample for each point in the jointplot, which combines a scatterplot and marginal histograms, and as we can see, the two have similar marginal distributions, and there does appear to be a lot of correlation between the two, which makes sense, because both are essentially measuring how off the cell counts are for each sample. However, this correlation is not perfect- the few large data points on the top right portion of the graph appear to display a higher degree of variability between the G and Chi-Squared Statistics. Also, we can look at the difference between Chi-Squared and G:"
   ]
  },
  {
   "cell_type": "code",
   "execution_count": 457,
   "metadata": {},
   "outputs": [
    {
     "data": {
      "text/plain": [
       "(array([1.000e+00, 2.000e+00, 1.000e+00, 0.000e+00, 0.000e+00, 0.000e+00,\n",
       "        0.000e+00, 1.000e+00, 0.000e+00, 1.000e+00, 0.000e+00, 0.000e+00,\n",
       "        3.000e+00, 1.000e+00, 0.000e+00, 4.000e+00, 7.000e+00, 2.000e+00,\n",
       "        2.000e+00, 1.900e+01, 6.000e+00, 1.500e+01, 2.700e+01, 2.300e+01,\n",
       "        4.800e+01, 5.800e+01, 8.100e+01, 2.010e+02, 4.310e+02, 9.500e+02,\n",
       "        5.738e+03, 1.469e+03, 5.480e+02, 1.720e+02, 7.700e+01, 5.600e+01,\n",
       "        1.500e+01, 1.600e+01, 6.000e+00, 7.000e+00, 3.000e+00, 1.000e+00,\n",
       "        2.000e+00, 4.000e+00, 1.000e+00, 0.000e+00, 0.000e+00, 0.000e+00,\n",
       "        0.000e+00, 1.000e+00]),\n",
       " array([-1.96034927, -1.89656527, -1.83278127, -1.76899728, -1.70521328,\n",
       "        -1.64142928, -1.57764528, -1.51386128, -1.45007729, -1.38629329,\n",
       "        -1.32250929, -1.25872529, -1.19494129, -1.1311573 , -1.0673733 ,\n",
       "        -1.0035893 , -0.9398053 , -0.8760213 , -0.81223731, -0.74845331,\n",
       "        -0.68466931, -0.62088531, -0.55710131, -0.49331732, -0.42953332,\n",
       "        -0.36574932, -0.30196532, -0.23818132, -0.17439733, -0.11061333,\n",
       "        -0.04682933,  0.01695467,  0.08073867,  0.14452266,  0.20830666,\n",
       "         0.27209066,  0.33587466,  0.39965866,  0.46344265,  0.52722665,\n",
       "         0.59101065,  0.65479465,  0.71857865,  0.78236264,  0.84614664,\n",
       "         0.90993064,  0.97371464,  1.03749864,  1.10128263,  1.16506663,\n",
       "         1.22885063]),\n",
       " <a list of 50 Patch objects>)"
      ]
     },
     "execution_count": 457,
     "metadata": {},
     "output_type": "execute_result"
    },
    {
     "data": {
      "image/png": "[encoded data removed]",
      "text/plain": [
       "<Figure size 432x288 with 1 Axes>"
      ]
     },
     "metadata": {
      "needs_background": "light"
     },
     "output_type": "display_data"
    }
   ],
   "source": [
    "plt.hist(cstat-gstat,bins=50)"
   ]
  },
  {
   "cell_type": "code",
   "execution_count": 458,
   "metadata": {},
   "outputs": [
    {
     "data": {
      "text/plain": [
       "0.013389979385872004"
      ]
     },
     "execution_count": 458,
     "metadata": {},
     "output_type": "execute_result"
    }
   ],
   "source": [
    "np.mean(gstat-cstat)"
   ]
  },
  {
   "cell_type": "markdown",
   "metadata": {},
   "source": [
    "So, it makes sense that this would be relatively close on average to 0. The largest deviation in values in our simulation is:"
   ]
  },
  {
   "cell_type": "code",
   "execution_count": 459,
   "metadata": {},
   "outputs": [
    {
     "data": {
      "text/plain": [
       "1.96034926902081"
      ]
     },
     "execution_count": 459,
     "metadata": {},
     "output_type": "execute_result"
    }
   ],
   "source": [
    "np.max(np.abs(gstat-cstat))"
   ]
  },
  {
   "cell_type": "markdown",
   "metadata": {},
   "source": [
    "Coincidentally, this is close to the Critical Value for a two-sided Z test with an alpha of .05, but more importantly, this means that there was a decently large sample where the Chi-Squared Statistic and the G-Statistic differed by roughly $\\frac{1}{3}$ of the total critical value. This can actually make the difference between rejecting a null hypothesis or not, so it makes sense to look at the type 1 errors for each, which in our case, is how many or what percent of the simulations rejected the null hypothesis, which was true here:"
   ]
  },
  {
   "cell_type": "code",
   "execution_count": 460,
   "metadata": {},
   "outputs": [
    {
     "name": "stdout",
     "output_type": "stream",
     "text": [
      "495 500\n"
     ]
    }
   ],
   "source": [
    "print(sum(cstat > crit_val),sum(gstat > crit_val))"
   ]
  },
  {
   "cell_type": "markdown",
   "metadata": {},
   "source": [
    "So our Chi-Squared Statistic was slightly more conservative in rejecting $H_0$, compared to the G-test, which in this case rejected exactly 5% of our simulated samples. What about the case where the null hypothesis is in fact untrue, for example, in the proportions that we encountered (50,30,20 %)?"
   ]
  },
  {
   "cell_type": "code",
   "execution_count": 461,
   "metadata": {},
   "outputs": [
    {
     "name": "stdout",
     "output_type": "stream",
     "text": [
      "680 692\n"
     ]
    }
   ],
   "source": [
    "q = np.array([.5,.3,.2])\n",
    "def simulate_samples(simsize,n,p,q):\n",
    "    cstat = np.zeros(simsize)\n",
    "    gstat = np.zeros(simsize)\n",
    "    for i in range(simsize):\n",
    "        x = np.random.multinomial(n,pvals=q,size=1) \n",
    "        cstat[i] = Chi_Sq(x,n,p)\n",
    "        gstat[i] = G_Stat(x,n,p)\n",
    "    return cstat,gstat\n",
    "\n",
    "cstat,gstat = simulate_samples(simsize,n,p,q)\n",
    "        \n",
    "print(sum(cstat < crit_val),sum(gstat < crit_val))"
   ]
  },
  {
   "cell_type": "code",
   "execution_count": 462,
   "metadata": {},
   "outputs": [
    {
     "data": {
      "text/plain": [
       "<seaborn.axisgrid.JointGrid at 0x1daa3adc358>"
      ]
     },
     "execution_count": 462,
     "metadata": {},
     "output_type": "execute_result"
    },
    {
     "data": {
      "image/png": "[encoded data removed]",
      "text/plain": [
       "<Figure size 432x432 with 3 Axes>"
      ]
     },
     "metadata": {
      "needs_background": "light"
     },
     "output_type": "display_data"
    }
   ],
   "source": [
    "sns.jointplot(cstat,gstat,alpha=.1)"
   ]
  },
  {
   "cell_type": "code",
   "execution_count": 463,
   "metadata": {},
   "outputs": [
    {
     "data": {
      "text/plain": [
       "(array([1.000e+00, 0.000e+00, 0.000e+00, 0.000e+00, 0.000e+00, 0.000e+00,\n",
       "        0.000e+00, 0.000e+00, 0.000e+00, 0.000e+00, 0.000e+00, 0.000e+00,\n",
       "        1.000e+00, 0.000e+00, 0.000e+00, 0.000e+00, 1.000e+00, 3.000e+00,\n",
       "        4.000e+00, 2.000e+00, 5.000e+00, 7.000e+00, 9.000e+00, 7.000e+00,\n",
       "        1.200e+01, 1.600e+01, 3.600e+01, 4.100e+01, 7.300e+01, 7.400e+01,\n",
       "        8.800e+01, 2.060e+02, 2.420e+02, 3.240e+02, 4.910e+02, 7.840e+02,\n",
       "        9.760e+02, 1.497e+03, 1.713e+03, 1.061e+03, 8.960e+02, 5.960e+02,\n",
       "        3.370e+02, 2.580e+02, 1.130e+02, 6.800e+01, 2.200e+01, 2.800e+01,\n",
       "        5.000e+00, 3.000e+00]),\n",
       " array([-10.60719233, -10.32502514, -10.04285796,  -9.76069077,\n",
       "         -9.47852358,  -9.19635639,  -8.91418921,  -8.63202202,\n",
       "         -8.34985483,  -8.06768764,  -7.78552045,  -7.50335327,\n",
       "         -7.22118608,  -6.93901889,  -6.6568517 ,  -6.37468452,\n",
       "         -6.09251733,  -5.81035014,  -5.52818295,  -5.24601576,\n",
       "         -4.96384858,  -4.68168139,  -4.3995142 ,  -4.11734701,\n",
       "         -3.83517983,  -3.55301264,  -3.27084545,  -2.98867826,\n",
       "         -2.70651107,  -2.42434389,  -2.1421767 ,  -1.86000951,\n",
       "         -1.57784232,  -1.29567514,  -1.01350795,  -0.73134076,\n",
       "         -0.44917357,  -0.16700638,   0.1151608 ,   0.39732799,\n",
       "          0.67949518,   0.96166237,   1.24382956,   1.52599674,\n",
       "          1.80816393,   2.09033112,   2.37249831,   2.65466549,\n",
       "          2.93683268,   3.21899987,   3.50116706]),\n",
       " <a list of 50 Patch objects>)"
      ]
     },
     "execution_count": 463,
     "metadata": {},
     "output_type": "execute_result"
    },
    {
     "data": {
      "image/png": "[encoded data removed]",
      "text/plain": [
       "<Figure size 432x288 with 1 Axes>"
      ]
     },
     "metadata": {
      "needs_background": "light"
     },
     "output_type": "display_data"
    }
   ],
   "source": [
    "plt.hist(cstat-gstat,bins=50)"
   ]
  },
  {
   "cell_type": "markdown",
   "metadata": {},
   "source": [
    "Here, looking at the number of incorrect results from the test- remember, $H_0$ is untrue here, but we are testing against that, the Chi-Squared Statistic managed to not reject $H_0$ at a slightly smaller rate than the G-statistic. What about a more extreme example, say 80-10-10% ?"
   ]
  },
  {
   "cell_type": "code",
   "execution_count": 464,
   "metadata": {},
   "outputs": [
    {
     "name": "stdout",
     "output_type": "stream",
     "text": [
      "0 0\n"
     ]
    }
   ],
   "source": [
    "q = np.array([.8,.1,.1])\n",
    "cstat,gstat = simulate_samples(simsize,n,p,q)       \n",
    "print(sum(cstat < crit_val),sum(gstat < crit_val))"
   ]
  },
  {
   "cell_type": "markdown",
   "metadata": {},
   "source": [
    "In this case, neither of the Test-Statistics managed to fail to reject $H_0$, which is the result that we want, as this indicates that this test has a high degree of statistical power, which I will go into more in depth in a later notebook. Looking at the jointplot and a histogram of the differences:"
   ]
  },
  {
   "cell_type": "code",
   "execution_count": 465,
   "metadata": {},
   "outputs": [
    {
     "data": {
      "text/plain": [
       "<seaborn.axisgrid.JointGrid at 0x1daa3d3f048>"
      ]
     },
     "execution_count": 465,
     "metadata": {},
     "output_type": "execute_result"
    },
    {
     "data": {
      "image/png": "[encoded data removed]",
      "text/plain": [
       "<Figure size 432x432 with 3 Axes>"
      ]
     },
     "metadata": {
      "needs_background": "light"
     },
     "output_type": "display_data"
    }
   ],
   "source": [
    "sns.jointplot(cstat,gstat,alpha=.1)"
   ]
  },
  {
   "cell_type": "code",
   "execution_count": 466,
   "metadata": {},
   "outputs": [
    {
     "data": {
      "text/plain": [
       "(array([1.000e+00, 2.000e+00, 0.000e+00, 1.000e+00, 1.000e+00, 0.000e+00,\n",
       "        2.000e+00, 0.000e+00, 2.000e+00, 2.000e+00, 3.000e+00, 0.000e+00,\n",
       "        6.000e+00, 1.000e+00, 1.000e+00, 3.000e+00, 1.000e+00, 8.000e+00,\n",
       "        2.000e+00, 7.000e+00, 8.000e+00, 7.000e+00, 1.000e+00, 1.500e+01,\n",
       "        1.600e+01, 6.000e+00, 2.900e+01, 8.000e+00, 4.700e+01, 1.000e+00,\n",
       "        2.800e+01, 5.000e+01, 2.000e+01, 1.160e+02, 2.000e+00, 6.600e+01,\n",
       "        8.900e+01, 9.100e+01, 2.400e+02, 1.910e+02, 2.670e+02, 2.760e+02,\n",
       "        3.960e+02, 4.970e+02, 6.600e+02, 7.930e+02, 8.500e+02, 1.196e+03,\n",
       "        1.730e+03, 2.261e+03]),\n",
       " array([-5.54245116, -5.30981137, -5.07717158, -4.8445318 , -4.61189201,\n",
       "        -4.37925223, -4.14661244, -3.91397266, -3.68133287, -3.44869309,\n",
       "        -3.2160533 , -2.98341351, -2.75077373, -2.51813394, -2.28549416,\n",
       "        -2.05285437, -1.82021459, -1.5875748 , -1.35493501, -1.12229523,\n",
       "        -0.88965544, -0.65701566, -0.42437587, -0.19173609,  0.0409037 ,\n",
       "         0.27354349,  0.50618327,  0.73882306,  0.97146284,  1.20410263,\n",
       "         1.43674241,  1.6693822 ,  1.90202199,  2.13466177,  2.36730156,\n",
       "         2.59994134,  2.83258113,  3.06522091,  3.2978607 ,  3.53050049,\n",
       "         3.76314027,  3.99578006,  4.22841984,  4.46105963,  4.69369941,\n",
       "         4.9263392 ,  5.15897899,  5.39161877,  5.62425856,  5.85689834,\n",
       "         6.08953813]),\n",
       " <a list of 50 Patch objects>)"
      ]
     },
     "execution_count": 466,
     "metadata": {},
     "output_type": "execute_result"
    },
    {
     "data": {
      "image/png": "[encoded data removed]",
      "text/plain": [
       "<Figure size 432x288 with 1 Axes>"
      ]
     },
     "metadata": {
      "needs_background": "light"
     },
     "output_type": "display_data"
    }
   ],
   "source": [
    "plt.hist(cstat-gstat,bins=50)"
   ]
  },
  {
   "cell_type": "markdown",
   "metadata": {},
   "source": [
    "These appear to be different distributions, and it looks like the more of a 'difference' between the chosen null and true null, the more of a difference there are between the distributions for the G and Chi-Squared Statistics. The variability at the upper right of the scatterplot between the G and Chi-Squared Stats also appear to be heteroskedastic to a varying degree. And again, this difference could also be the difference between a test statistic exceeding the threshold value of a critical value vs not. So it is worth it to take it into consideration. However, while the reason that we use Chi-Squared vs G can be debated, the reason that those are used instead of the Multinomial Framework, despite that being the actual, true likelihood involved in the test, is that the Multinomial Approach is effectively infeasible for the larger sample sizes needed to provide confidence and power to the results, it is interesting to think about how one would figure it out for a small enough sample.\n",
    "\n",
    "So let's say that instead of sampling 100 voters, we sample a mere 10. Out of these 10, we get 8 votes for Crist, 1 vote for Fried and 1 vote for Daniel. This is essentially the same proportions of preferences to the nominees as in the most extreme example used in our simulation, but it isn't too hard to imagine how out of 10 people, that could happen, even if the population in general had equal probability of preference for each candidate as we have assumed in our null hypothesis. So for the multinomial probabilities, we are going to need to find out how many different choices we have for the cell-totals:\n",
    "\n",
    "$\\binom{10+2-1}{2-1}$ = $\\frac{12*11}{2}$ = 66\n",
    "\n",
    "Out of these 66 total choices, how do we judge how 'extreme' each of these is? Well, it turns out for a array of length 10, where each entry can be a value 1,2, or 3, there are $3^10$ or $243^2$ = 59049 total choices for each person potentially. However, if all three nominees are equally preferable, each should be equally likely. The obvious ones are the edge cases, for example, when all 10 florida voters in the sample choose the same candidate, denoted (10,0,0) or (0,10,0) or (0,0,10). In this case, if all 10 vote one way, the likelihood of people voting this extremely is $\\frac{3}{3^10}$ or:"
   ]
  },
  {
   "cell_type": "code",
   "execution_count": 467,
   "metadata": {},
   "outputs": [
    {
     "data": {
      "text/plain": [
       "5.080526342529086e-05"
      ]
     },
     "execution_count": 467,
     "metadata": {},
     "output_type": "execute_result"
    }
   ],
   "source": [
    "3**-9"
   ]
  },
  {
   "cell_type": "markdown",
   "metadata": {},
   "source": [
    "If we have 66 of these cell totals, then it should not be that hard to figure these out, using the multinomial theorem, or at the very least figure out a way to count the more extreme ones. The idea is that since we have 3 categories, and each of the three cell counts is a integer 0,1,...,10 such that the sum of the three cell counts adds up to 10, our sample size, these 66 points for what is known as a simplex in 3-dimensional space, where each axis is a cell-count. So in this particular case, since there are 3 cells, then it turns out to be 3-dimensional. \n",
    "\n",
    "Further, we can think up of a cone with the apex at the origin, and in the direction of the mean of the distribution, in this case, ($\\frac{10}{3}$,$\\frac{10}{3}$,$\\frac{10}{3}$). By increasing the angle, we include more and more points that are further and further away from the mean, and at some point, include even the points in the periphery of the simplex- (10,0,0) and so on. So after (10,0,0),(0,10,0) and (0,0,10), which are 3 of our 66 simplex points, we can think of permutations of (9,1,0), of which there are 6, since we have 3 distinct elements and 3 spots for each. The probability of (10,0,0) is:\n",
    "\n",
    "$\\binom{10}{10,0,0}$$(\\frac{1}{3})^{10}$$(\\frac{1}{3})^0$$(\\frac{1}{3})^0$ or $\\frac{1}{3^{10}}$, as previously discussed, whereas for (9,1,0), we have:\n",
    "\n",
    "$\\binom{10}{9,1,0}$$(\\frac{1}{3})^9$$(\\frac{1}{3})^1$$(\\frac{1}{3})^0$ or $\\frac{10}{3^{10}}$ or"
   ]
  },
  {
   "cell_type": "code",
   "execution_count": 468,
   "metadata": {},
   "outputs": [
    {
     "data": {
      "text/plain": [
       "0.00016935087808430286"
      ]
     },
     "execution_count": 468,
     "metadata": {},
     "output_type": "execute_result"
    }
   ],
   "source": [
    "10/3**10"
   ]
  },
  {
   "cell_type": "markdown",
   "metadata": {},
   "source": [
    "And there are 6 of these. The next step is important, because we can consider both (8,2,0) and (8,1,1). The distance from our mean of the multinomial distribution will be higher, so we will include (8,2,0) first, of which there are again 6 of and have a certain probability, and then (8,1,1), of which there are three of, since we only have two distinct objects and three different ways to order them. Thus, for (8,2,0), we get a multinomial coefficient value of 45, whereas for (8,1,1), you get 90. Multiplying this by the number of different ways for each combination, we get:\n",
    "\n",
    "3*1 + 6*10 + 6*45 + 3*90 = "
   ]
  },
  {
   "cell_type": "code",
   "execution_count": 469,
   "metadata": {},
   "outputs": [
    {
     "data": {
      "text/plain": [
       "603"
      ]
     },
     "execution_count": 469,
     "metadata": {},
     "output_type": "execute_result"
    }
   ],
   "source": [
    "3*1 + 6*10 + 6*45 + 3*90"
   ]
  },
  {
   "cell_type": "markdown",
   "metadata": {},
   "source": [
    "And so our p-value here is:"
   ]
  },
  {
   "cell_type": "code",
   "execution_count": 470,
   "metadata": {},
   "outputs": [
    {
     "data": {
      "text/plain": [
       "0.010211857948483463"
      ]
     },
     "execution_count": 470,
     "metadata": {},
     "output_type": "execute_result"
    }
   ],
   "source": [
    "603/3**10"
   ]
  },
  {
   "cell_type": "markdown",
   "metadata": {},
   "source": [
    "So while not as unlikely, it would be unlikely to happen if simulated:"
   ]
  },
  {
   "cell_type": "code",
   "execution_count": 471,
   "metadata": {},
   "outputs": [
    {
     "name": "stderr",
     "output_type": "stream",
     "text": [
      "C:\\Users\\Sebastian\\Anaconda3plus\\lib\\site-packages\\ipykernel_launcher.py:3: RuntimeWarning: divide by zero encountered in log\n",
      "  This is separate from the ipykernel package so we can avoid doing imports until\n",
      "C:\\Users\\Sebastian\\Anaconda3plus\\lib\\site-packages\\ipykernel_launcher.py:3: RuntimeWarning: invalid value encountered in multiply\n",
      "  This is separate from the ipykernel package so we can avoid doing imports until\n"
     ]
    },
    {
     "name": "stdout",
     "output_type": "stream",
     "text": [
      "1260 2663\n"
     ]
    }
   ],
   "source": [
    "q = np.array([.8,.1,.1])\n",
    "cstat,gstat = simulate_samples(simsize,10,p,q)       \n",
    "print(sum(cstat < crit_val),sum(gstat < crit_val))"
   ]
  },
  {
   "cell_type": "markdown",
   "metadata": {},
   "source": [
    "And so, this wouldn't have nearly as much power as we want. If we had observed something closer to (50-30-20) %, or had something like (5,3,2) in our sample, this would make this approach rather intractable, and so we would prefer to look at the inside of the cone to figure the probabilities out:\n",
    "\n",
    "(4,3,3) is closest to the mean\n",
    "(4,4,2) is also relatively close\n",
    "\n",
    "And then Finally, (5,3,2). \n",
    "\n",
    "So for (4,3,3), there are going to be 3 of these, for (4,4,2) 3 also, and for (5,3,2) 6. The multinomials we can compute as:"
   ]
  },
  {
   "cell_type": "code",
   "execution_count": 472,
   "metadata": {},
   "outputs": [
    {
     "data": {
      "text/plain": [
       "37170"
      ]
     },
     "execution_count": 472,
     "metadata": {},
     "output_type": "execute_result"
    }
   ],
   "source": [
    "3*multnom(10,np.array([4,3,3])) + 3*multnom(10,np.array([4,4,2])) + 6*multnom(10,np.array([5,3,2]))"
   ]
  },
  {
   "cell_type": "markdown",
   "metadata": {},
   "source": [
    "So the probability of seeing something as extreme as the proportions that we saw in our sample of 100, but in our sample of 10, is:"
   ]
  },
  {
   "cell_type": "code",
   "execution_count": 473,
   "metadata": {},
   "outputs": [
    {
     "data": {
      "text/plain": [
       "0.37052278616064627"
      ]
     },
     "execution_count": 473,
     "metadata": {},
     "output_type": "execute_result"
    }
   ],
   "source": [
    "1-(37170/3**10)"
   ]
  },
  {
   "cell_type": "markdown",
   "metadata": {},
   "source": [
    "Nowhere near our 5% rejection region. By contrast, for our sample, the p-value, using the chi squared approach would be:"
   ]
  },
  {
   "cell_type": "code",
   "execution_count": 474,
   "metadata": {},
   "outputs": [
    {
     "data": {
      "text/plain": [
       "0.000911881965554473"
      ]
     },
     "execution_count": 474,
     "metadata": {},
     "output_type": "execute_result"
    }
   ],
   "source": [
    "1-ss.chi2(df=2).cdf(14)"
   ]
  },
  {
   "cell_type": "markdown",
   "metadata": {},
   "source": [
    "Whereas the G-statistic would yield:"
   ]
  },
  {
   "cell_type": "code",
   "execution_count": 475,
   "metadata": {},
   "outputs": [
    {
     "data": {
      "text/plain": [
       "0.0010118980438725833"
      ]
     },
     "execution_count": 475,
     "metadata": {},
     "output_type": "execute_result"
    }
   ],
   "source": [
    "1-ss.chi2(df=2).cdf(13.791854920707266)"
   ]
  },
  {
   "cell_type": "markdown",
   "metadata": {},
   "source": [
    "However, we had to sort through only a fraction of 66 total possible cell-counts with a sample of 10, rather than 5150 for a sample of 100. Big savings, computationally speaking, as well as in terms of potential error from multiplying and adding repeatedly over large amounts of iterations. \n",
    "\n",
    "Ok, so what if we have a far less neutral distribution, for example, say that $H_0: p_{Crist} = .8, p_{Fried} = .1, and p_{Daniel} = .1$, and have something like our sample of (50,30,20) as the alternative hypothesis. However, let's do 10,000 runs of 250 sampled this time. First, let's test alpha:"
   ]
  },
  {
   "cell_type": "code",
   "execution_count": 476,
   "metadata": {},
   "outputs": [
    {
     "name": "stdout",
     "output_type": "stream",
     "text": [
      "0.05 477 498 \n",
      "\n",
      "0.01 94 98 \n",
      "\n",
      "0.005 46 40 \n",
      "\n",
      "0.001 9 4 \n",
      "\n",
      "0.0001 1 2 \n",
      "\n"
     ]
    }
   ],
   "source": [
    "n = 250\n",
    "p = np.array([.8,.1,.1])\n",
    "simsize = 10000\n",
    "cstat,gstat = simulate_samples(simsize,n,p,p)\n",
    "#alpha\n",
    "alpha = [.05,.01,.005,.001,.0001]\n",
    "for i in alpha:\n",
    "    crit_val = ss.chi2(df=2).ppf(1-i)\n",
    "    print(i,sum(cstat > crit_val),sum(gstat > crit_val),'\\n')"
   ]
  },
  {
   "cell_type": "code",
   "execution_count": 477,
   "metadata": {},
   "outputs": [
    {
     "data": {
      "text/plain": [
       "<seaborn.axisgrid.JointGrid at 0x1daa40382b0>"
      ]
     },
     "execution_count": 477,
     "metadata": {},
     "output_type": "execute_result"
    },
    {
     "data": {
      "image/png": "[encoded data removed]",
      "text/plain": [
       "<Figure size 432x432 with 3 Axes>"
      ]
     },
     "metadata": {
      "needs_background": "light"
     },
     "output_type": "display_data"
    }
   ],
   "source": [
    "sns.jointplot(cstat,gstat,alpha=.1)"
   ]
  },
  {
   "cell_type": "code",
   "execution_count": 478,
   "metadata": {},
   "outputs": [
    {
     "data": {
      "text/plain": [
       "(array([1.000e+00, 0.000e+00, 0.000e+00, 0.000e+00, 0.000e+00, 0.000e+00,\n",
       "        0.000e+00, 0.000e+00, 0.000e+00, 3.000e+00, 1.000e+00, 0.000e+00,\n",
       "        0.000e+00, 9.000e+00, 0.000e+00, 2.000e+00, 1.900e+01, 3.000e+00,\n",
       "        2.000e+00, 3.500e+01, 1.100e+01, 7.400e+01, 2.100e+01, 1.210e+02,\n",
       "        7.100e+01, 2.060e+02, 4.370e+02, 1.081e+03, 5.316e+03, 1.491e+03,\n",
       "        5.320e+02, 2.220e+02, 1.270e+02, 7.600e+01, 2.700e+01, 4.500e+01,\n",
       "        3.000e+01, 6.000e+00, 1.500e+01, 0.000e+00, 6.000e+00, 0.000e+00,\n",
       "        5.000e+00, 0.000e+00, 0.000e+00, 3.000e+00, 0.000e+00, 1.000e+00,\n",
       "        0.000e+00, 1.000e+00]),\n",
       " array([-3.90787882, -3.77132262, -3.63476642, -3.49821022, -3.36165401,\n",
       "        -3.22509781, -3.08854161, -2.95198541, -2.81542921, -2.67887301,\n",
       "        -2.5423168 , -2.4057606 , -2.2692044 , -2.1326482 , -1.996092  ,\n",
       "        -1.85953579, -1.72297959, -1.58642339, -1.44986719, -1.31331099,\n",
       "        -1.17675478, -1.04019858, -0.90364238, -0.76708618, -0.63052998,\n",
       "        -0.49397377, -0.35741757, -0.22086137, -0.08430517,  0.05225103,\n",
       "         0.18880724,  0.32536344,  0.46191964,  0.59847584,  0.73503204,\n",
       "         0.87158825,  1.00814445,  1.14470065,  1.28125685,  1.41781305,\n",
       "         1.55436926,  1.69092546,  1.82748166,  1.96403786,  2.10059406,\n",
       "         2.23715027,  2.37370647,  2.51026267,  2.64681887,  2.78337507,\n",
       "         2.91993128]),\n",
       " <a list of 50 Patch objects>)"
      ]
     },
     "execution_count": 478,
     "metadata": {},
     "output_type": "execute_result"
    },
    {
     "data": {
      "image/png": "[encoded data removed]",
      "text/plain": [
       "<Figure size 432x288 with 1 Axes>"
      ]
     },
     "metadata": {
      "needs_background": "light"
     },
     "output_type": "display_data"
    }
   ],
   "source": [
    "plt.hist(cstat-gstat,bins=50)"
   ]
  },
  {
   "cell_type": "markdown",
   "metadata": {},
   "source": [
    "This looks relatively correct for the alpha level. What about beta? "
   ]
  },
  {
   "cell_type": "code",
   "execution_count": 479,
   "metadata": {},
   "outputs": [
    {
     "name": "stdout",
     "output_type": "stream",
     "text": [
      "0.05 0 0 \n",
      "\n",
      "0.01 0 0 \n",
      "\n",
      "0.005 0 0 \n",
      "\n",
      "0.001 0 0 \n",
      "\n",
      "0.0001 0 0 \n",
      "\n"
     ]
    }
   ],
   "source": [
    "q = np.array([.5,.3,.2])\n",
    "cstat,gstat = simulate_samples(simsize,n,p,q)\n",
    "\n",
    "for i in alpha:\n",
    "    crit_val = ss.chi2(df=2).ppf(1-i)\n",
    "    print(i,sum(cstat < crit_val),sum(gstat < crit_val),'\\n')"
   ]
  },
  {
   "cell_type": "code",
   "execution_count": 480,
   "metadata": {},
   "outputs": [
    {
     "data": {
      "text/plain": [
       "<seaborn.axisgrid.JointGrid at 0x1daa42dfa20>"
      ]
     },
     "execution_count": 480,
     "metadata": {},
     "output_type": "execute_result"
    },
    {
     "data": {
      "image/png": "[encoded data removed]",
      "text/plain": [
       "<Figure size 432x432 with 3 Axes>"
      ]
     },
     "metadata": {
      "needs_background": "light"
     },
     "output_type": "display_data"
    }
   ],
   "source": [
    "sns.jointplot(cstat,gstat,alpha=.1)"
   ]
  },
  {
   "cell_type": "code",
   "execution_count": 481,
   "metadata": {},
   "outputs": [
    {
     "data": {
      "text/plain": [
       "(array([  3.,   8.,  13.,  34.,  52., 115., 164., 216., 312., 414., 479.,\n",
       "        541., 550., 704., 610., 712., 613., 570., 564., 530., 465., 406.,\n",
       "        326., 268., 253., 227., 177., 144.,  95.,  69.,  76.,  66.,  37.,\n",
       "         45.,  38.,  26.,  14.,  19.,  14.,   1.,   7.,   7.,   3.,   4.,\n",
       "          1.,   3.,   2.,   1.,   1.,   1.]),\n",
       " array([ 8.87679723, 10.64069587, 12.40459452, 14.16849316, 15.93239181,\n",
       "        17.69629045, 19.4601891 , 21.22408774, 22.98798639, 24.75188503,\n",
       "        26.51578368, 28.27968232, 30.04358097, 31.80747961, 33.57137826,\n",
       "        35.3352769 , 37.09917555, 38.86307419, 40.62697284, 42.39087148,\n",
       "        44.15477013, 45.91866877, 47.68256742, 49.44646606, 51.21036471,\n",
       "        52.97426335, 54.73816199, 56.50206064, 58.26595928, 60.02985793,\n",
       "        61.79375657, 63.55765522, 65.32155386, 67.08545251, 68.84935115,\n",
       "        70.6132498 , 72.37714844, 74.14104709, 75.90494573, 77.66884438,\n",
       "        79.43274302, 81.19664167, 82.96054031, 84.72443896, 86.4883376 ,\n",
       "        88.25223625, 90.01613489, 91.78003354, 93.54393218, 95.30783083,\n",
       "        97.07172947]),\n",
       " <a list of 50 Patch objects>)"
      ]
     },
     "execution_count": 481,
     "metadata": {},
     "output_type": "execute_result"
    },
    {
     "data": {
      "image/png": "[encoded data removed]",
      "text/plain": [
       "<Figure size 432x288 with 1 Axes>"
      ]
     },
     "metadata": {
      "needs_background": "light"
     },
     "output_type": "display_data"
    }
   ],
   "source": [
    "plt.hist(cstat-gstat,bins=50)"
   ]
  },
  {
   "cell_type": "markdown",
   "metadata": {},
   "source": [
    "So it appears that the more that the true distribution sampled over and over again diverges from the distribution specified in $H_0$, we shift from something like a Laplace Distribution centered at 0 to something like a Chi Squared or Gamma or Skewed and Positive EV distribution. This looks roughly like the Variance Gamma Distribution, or something like that, which has support on the entire real line, and can be set to have a mean and a certain dispersion and skewness. \n",
    "\n",
    "We can try and figure out some kind of way to generate a new hypothesis each time, versus a null hypothesis, and the compute values and make a technical data set to look at:"
   ]
  },
  {
   "cell_type": "code",
   "execution_count": 482,
   "metadata": {},
   "outputs": [
    {
     "data": {
      "text/html": [
       "<div>\n",
       "<style scoped>\n",
       "    .dataframe tbody tr th:only-of-type {\n",
       "        vertical-align: middle;\n",
       "    }\n",
       "\n",
       "    .dataframe tbody tr th {\n",
       "        vertical-align: top;\n",
       "    }\n",
       "\n",
       "    .dataframe thead th {\n",
       "        text-align: right;\n",
       "    }\n",
       "</style>\n",
       "<table border=\"1\" class=\"dataframe\">\n",
       "  <thead>\n",
       "    <tr style=\"text-align: right;\">\n",
       "      <th></th>\n",
       "      <th>Sample Size</th>\n",
       "      <th>Chi-Squared Statistic</th>\n",
       "      <th>G Statistic</th>\n",
       "      <th>True Entropy</th>\n",
       "      <th>KL-Divergence</th>\n",
       "    </tr>\n",
       "  </thead>\n",
       "  <tbody>\n",
       "    <tr>\n",
       "      <th>0</th>\n",
       "      <td>138</td>\n",
       "      <td>22.173913</td>\n",
       "      <td>24.173583</td>\n",
       "      <td>1.311136</td>\n",
       "      <td>0.086522</td>\n",
       "    </tr>\n",
       "    <tr>\n",
       "      <th>1</th>\n",
       "      <td>147</td>\n",
       "      <td>1.544218</td>\n",
       "      <td>1.545626</td>\n",
       "      <td>1.371976</td>\n",
       "      <td>0.014086</td>\n",
       "    </tr>\n",
       "    <tr>\n",
       "      <th>2</th>\n",
       "      <td>138</td>\n",
       "      <td>26.000000</td>\n",
       "      <td>25.746759</td>\n",
       "      <td>1.320714</td>\n",
       "      <td>0.067835</td>\n",
       "    </tr>\n",
       "    <tr>\n",
       "      <th>3</th>\n",
       "      <td>142</td>\n",
       "      <td>10.169014</td>\n",
       "      <td>9.666156</td>\n",
       "      <td>1.349687</td>\n",
       "      <td>0.036663</td>\n",
       "    </tr>\n",
       "    <tr>\n",
       "      <th>4</th>\n",
       "      <td>152</td>\n",
       "      <td>2.368421</td>\n",
       "      <td>2.351701</td>\n",
       "      <td>1.376637</td>\n",
       "      <td>0.010074</td>\n",
       "    </tr>\n",
       "    <tr>\n",
       "      <th>5</th>\n",
       "      <td>164</td>\n",
       "      <td>19.658537</td>\n",
       "      <td>21.954811</td>\n",
       "      <td>1.345737</td>\n",
       "      <td>0.043523</td>\n",
       "    </tr>\n",
       "    <tr>\n",
       "      <th>6</th>\n",
       "      <td>150</td>\n",
       "      <td>30.106667</td>\n",
       "      <td>32.882959</td>\n",
       "      <td>1.291512</td>\n",
       "      <td>0.110688</td>\n",
       "    </tr>\n",
       "    <tr>\n",
       "      <th>7</th>\n",
       "      <td>164</td>\n",
       "      <td>18.682927</td>\n",
       "      <td>19.700805</td>\n",
       "      <td>1.337469</td>\n",
       "      <td>0.053912</td>\n",
       "    </tr>\n",
       "    <tr>\n",
       "      <th>8</th>\n",
       "      <td>146</td>\n",
       "      <td>36.739726</td>\n",
       "      <td>32.394780</td>\n",
       "      <td>1.316951</td>\n",
       "      <td>0.063997</td>\n",
       "    </tr>\n",
       "    <tr>\n",
       "      <th>9</th>\n",
       "      <td>147</td>\n",
       "      <td>10.687075</td>\n",
       "      <td>10.521129</td>\n",
       "      <td>1.325482</td>\n",
       "      <td>0.065499</td>\n",
       "    </tr>\n",
       "    <tr>\n",
       "      <th>10</th>\n",
       "      <td>143</td>\n",
       "      <td>18.482517</td>\n",
       "      <td>19.196331</td>\n",
       "      <td>1.360042</td>\n",
       "      <td>0.026183</td>\n",
       "    </tr>\n",
       "    <tr>\n",
       "      <th>11</th>\n",
       "      <td>144</td>\n",
       "      <td>24.500000</td>\n",
       "      <td>26.122623</td>\n",
       "      <td>1.326225</td>\n",
       "      <td>0.069981</td>\n",
       "    </tr>\n",
       "    <tr>\n",
       "      <th>12</th>\n",
       "      <td>149</td>\n",
       "      <td>8.288591</td>\n",
       "      <td>8.988692</td>\n",
       "      <td>1.276257</td>\n",
       "      <td>0.131499</td>\n",
       "    </tr>\n",
       "    <tr>\n",
       "      <th>13</th>\n",
       "      <td>153</td>\n",
       "      <td>12.934641</td>\n",
       "      <td>13.962078</td>\n",
       "      <td>1.303648</td>\n",
       "      <td>0.104751</td>\n",
       "    </tr>\n",
       "    <tr>\n",
       "      <th>14</th>\n",
       "      <td>152</td>\n",
       "      <td>27.526316</td>\n",
       "      <td>28.147580</td>\n",
       "      <td>1.288684</td>\n",
       "      <td>0.121235</td>\n",
       "    </tr>\n",
       "  </tbody>\n",
       "</table>\n",
       "</div>"
      ],
      "text/plain": [
       "    Sample Size  Chi-Squared Statistic  G Statistic  True Entropy  \\\n",
       "0           138              22.173913    24.173583      1.311136   \n",
       "1           147               1.544218     1.545626      1.371976   \n",
       "2           138              26.000000    25.746759      1.320714   \n",
       "3           142              10.169014     9.666156      1.349687   \n",
       "4           152               2.368421     2.351701      1.376637   \n",
       "5           164              19.658537    21.954811      1.345737   \n",
       "6           150              30.106667    32.882959      1.291512   \n",
       "7           164              18.682927    19.700805      1.337469   \n",
       "8           146              36.739726    32.394780      1.316951   \n",
       "9           147              10.687075    10.521129      1.325482   \n",
       "10          143              18.482517    19.196331      1.360042   \n",
       "11          144              24.500000    26.122623      1.326225   \n",
       "12          149               8.288591     8.988692      1.276257   \n",
       "13          153              12.934641    13.962078      1.303648   \n",
       "14          152              27.526316    28.147580      1.288684   \n",
       "\n",
       "    KL-Divergence  \n",
       "0        0.086522  \n",
       "1        0.014086  \n",
       "2        0.067835  \n",
       "3        0.036663  \n",
       "4        0.010074  \n",
       "5        0.043523  \n",
       "6        0.110688  \n",
       "7        0.053912  \n",
       "8        0.063997  \n",
       "9        0.065499  \n",
       "10       0.026183  \n",
       "11       0.069981  \n",
       "12       0.131499  \n",
       "13       0.104751  \n",
       "14       0.121235  "
      ]
     },
     "execution_count": 482,
     "metadata": {},
     "output_type": "execute_result"
    }
   ],
   "source": [
    "def new_hypothesis(p,t):\n",
    "    q = p + np.random.uniform(size=len(p))\n",
    "    q /= sum(q)\n",
    "    return q\n",
    "\n",
    "def entropy(p):\n",
    "    return sum(-p*np.log(p))\n",
    "\n",
    "def kldiv(p,q):\n",
    "    return sum(p*np.log(p/q))\n",
    "    \n",
    "def test_battery(simsize,n,p,t):\n",
    "    cstat = np.zeros(simsize)\n",
    "    gstat = np.zeros(simsize)\n",
    "    ntropy = np.zeros(simsize)\n",
    "    kl_div = np.zeros(simsize)\n",
    "    samplesize = np.random.poisson(lam=n,size=simsize)\n",
    "    cols = ['Sample Size','Chi-Squared Statistic','G Statistic','True Entropy','KL-Divergence']\n",
    "    df = pd.DataFrame(columns = cols)\n",
    "    for i in range(simsize):\n",
    "        prob = new_hypothesis(p,t)\n",
    "        x = np.random.multinomial(samplesize[i],pvals=prob,size=1)\n",
    "        cstat[i] = Chi_Sq(x,samplesize[i],p)\n",
    "        gstat[i] = G_Stat(x,samplesize[i],p)\n",
    "        ntropy[i] = entropy(prob)\n",
    "        kl_div[i] = kldiv(p,prob)\n",
    "    df['Sample Size'] = samplesize\n",
    "    df['Chi-Squared Statistic'] = cstat\n",
    "    df['G Statistic'] = gstat\n",
    "    df['True Entropy'] = ntropy\n",
    "    df['KL-Divergence'] = kl_div\n",
    "    return df\n",
    "c = 4\n",
    "p = np.ones(c)/c\n",
    "n = 150\n",
    "t = .25\n",
    "simsize = 25000\n",
    "df = test_battery(simsize,n,p,t)\n",
    "df.head(15)"
   ]
  },
  {
   "cell_type": "code",
   "execution_count": 483,
   "metadata": {},
   "outputs": [
    {
     "data": {
      "text/plain": [
       "<matplotlib.axes._subplots.AxesSubplot at 0x1daa555a978>"
      ]
     },
     "execution_count": 483,
     "metadata": {},
     "output_type": "execute_result"
    },
    {
     "data": {
      "image/png": "[encoded data removed]",
      "text/plain": [
       "<Figure size 432x288 with 1 Axes>"
      ]
     },
     "metadata": {
      "needs_background": "light"
     },
     "output_type": "display_data"
    }
   ],
   "source": [
    "sns.scatterplot(x='Chi-Squared Statistic',y='G Statistic',data=df,hue='KL-Divergence',alpha=.2)"
   ]
  },
  {
   "cell_type": "markdown",
   "metadata": {},
   "source": [
    "The KL-Divergence is a measure of how much our Null Distribution Diverges from our Alternative Distribution. The entropy measures how random the alternative distribution is. In this case, we can try and look at both:"
   ]
  },
  {
   "cell_type": "code",
   "execution_count": 484,
   "metadata": {},
   "outputs": [
    {
     "data": {
      "text/plain": [
       "<matplotlib.axes._subplots.AxesSubplot at 0x1daa598ef60>"
      ]
     },
     "execution_count": 484,
     "metadata": {},
     "output_type": "execute_result"
    },
    {
     "data": {
      "image/png": "[encoded data removed]",
      "text/plain": [
       "<Figure size 432x288 with 1 Axes>"
      ]
     },
     "metadata": {
      "needs_background": "light"
     },
     "output_type": "display_data"
    }
   ],
   "source": [
    "sns.regplot(x='KL-Divergence',y='G Statistic',data=df)"
   ]
  },
  {
   "cell_type": "code",
   "execution_count": 485,
   "metadata": {},
   "outputs": [
    {
     "data": {
      "text/plain": [
       "<matplotlib.axes._subplots.AxesSubplot at 0x1daa55976d8>"
      ]
     },
     "execution_count": 485,
     "metadata": {},
     "output_type": "execute_result"
    },
    {
     "data": {
      "image/png": "[encoded data removed]",
      "text/plain": [
       "<Figure size 432x288 with 1 Axes>"
      ]
     },
     "metadata": {
      "needs_background": "light"
     },
     "output_type": "display_data"
    }
   ],
   "source": [
    "sns.regplot(x='True Entropy',y='G Statistic',data=df)"
   ]
  },
  {
   "cell_type": "markdown",
   "metadata": {},
   "source": [
    "In this case, we are changing the true probability distributions each time, and comparing it to our null statistic. The Sample Size is also changing each time. We can look at that as well:"
   ]
  },
  {
   "cell_type": "code",
   "execution_count": 486,
   "metadata": {},
   "outputs": [
    {
     "data": {
      "text/plain": [
       "<matplotlib.axes._subplots.AxesSubplot at 0x1daa5640208>"
      ]
     },
     "execution_count": 486,
     "metadata": {},
     "output_type": "execute_result"
    },
    {
     "data": {
      "image/png": "[encoded data removed]",
      "text/plain": [
       "<Figure size 432x288 with 1 Axes>"
      ]
     },
     "metadata": {
      "needs_background": "light"
     },
     "output_type": "display_data"
    }
   ],
   "source": [
    "sns.scatterplot(x='Chi-Squared Statistic',y='G Statistic',data=df,hue='Sample Size',alpha=.2)"
   ]
  },
  {
   "cell_type": "markdown",
   "metadata": {},
   "source": [
    "We can also try looking at the difference between the two test statistics again:"
   ]
  },
  {
   "cell_type": "code",
   "execution_count": 487,
   "metadata": {},
   "outputs": [
    {
     "data": {
      "text/plain": [
       "(array([1.000e+00, 0.000e+00, 0.000e+00, 0.000e+00, 0.000e+00, 0.000e+00,\n",
       "        0.000e+00, 1.000e+00, 2.000e+00, 0.000e+00, 0.000e+00, 0.000e+00,\n",
       "        1.000e+00, 4.000e+00, 7.000e+00, 1.000e+01, 1.700e+01, 2.000e+01,\n",
       "        3.200e+01, 5.400e+01, 9.300e+01, 1.700e+02, 2.470e+02, 4.020e+02,\n",
       "        6.390e+02, 1.010e+03, 1.689e+03, 2.947e+03, 6.589e+03, 7.563e+03,\n",
       "        1.518e+03, 7.790e+02, 3.890e+02, 2.680e+02, 1.780e+02, 1.160e+02,\n",
       "        8.000e+01, 5.300e+01, 4.300e+01, 2.000e+01, 2.200e+01, 1.200e+01,\n",
       "        1.000e+01, 6.000e+00, 2.000e+00, 0.000e+00, 2.000e+00, 1.000e+00,\n",
       "        1.000e+00, 2.000e+00]),\n",
       " array([-29.16909784, -28.16728584, -27.16547384, -26.16366184,\n",
       "        -25.16184984, -24.16003784, -23.15822585, -22.15641385,\n",
       "        -21.15460185, -20.15278985, -19.15097785, -18.14916585,\n",
       "        -17.14735385, -16.14554185, -15.14372985, -14.14191785,\n",
       "        -13.14010586, -12.13829386, -11.13648186, -10.13466986,\n",
       "         -9.13285786,  -8.13104586,  -7.12923386,  -6.12742186,\n",
       "         -5.12560986,  -4.12379787,  -3.12198587,  -2.12017387,\n",
       "         -1.11836187,  -0.11654987,   0.88526213,   1.88707413,\n",
       "          2.88888613,   3.89069813,   4.89251012,   5.89432212,\n",
       "          6.89613412,   7.89794612,   8.89975812,   9.90157012,\n",
       "         10.90338212,  11.90519412,  12.90700612,  13.90881812,\n",
       "         14.91063011,  15.91244211,  16.91425411,  17.91606611,\n",
       "         18.91787811,  19.91969011,  20.92150211]),\n",
       " <a list of 50 Patch objects>)"
      ]
     },
     "execution_count": 487,
     "metadata": {},
     "output_type": "execute_result"
    },
    {
     "data": {
      "image/png": "[encoded data removed]",
      "text/plain": [
       "<Figure size 432x288 with 1 Axes>"
      ]
     },
     "metadata": {
      "needs_background": "light"
     },
     "output_type": "display_data"
    }
   ],
   "source": [
    "plt.hist(df['Chi-Squared Statistic'] - df['G Statistic'],bins=50)"
   ]
  },
  {
   "cell_type": "markdown",
   "metadata": {},
   "source": [
    "So realistically, since both distributions measure similar things- how far the cell counts are from the expected cell counts, as is evident by looking at Entropy and KL-Divergence, they achieve similar results, but in some cases, especially for extremely high values, the difference is noticeable. These are the values that we would generally reject anyways, but let's try to look at the critical value here, with 4-1=3 degrees of freedom:"
   ]
  },
  {
   "cell_type": "code",
   "execution_count": 492,
   "metadata": {},
   "outputs": [
    {
     "name": "stdout",
     "output_type": "stream",
     "text": [
      "7.814727903251179\n"
     ]
    }
   ],
   "source": [
    "alpha = .05\n",
    "crit_val = ss.chi2(df=3).ppf(1-alpha)\n",
    "print(crit_val)"
   ]
  },
  {
   "cell_type": "code",
   "execution_count": 493,
   "metadata": {},
   "outputs": [
    {
     "data": {
      "text/html": [
       "<div>\n",
       "<style scoped>\n",
       "    .dataframe tbody tr th:only-of-type {\n",
       "        vertical-align: middle;\n",
       "    }\n",
       "\n",
       "    .dataframe tbody tr th {\n",
       "        vertical-align: top;\n",
       "    }\n",
       "\n",
       "    .dataframe thead th {\n",
       "        text-align: right;\n",
       "    }\n",
       "</style>\n",
       "<table border=\"1\" class=\"dataframe\">\n",
       "  <thead>\n",
       "    <tr style=\"text-align: right;\">\n",
       "      <th></th>\n",
       "      <th>Sample Size</th>\n",
       "      <th>Chi-Squared Statistic</th>\n",
       "      <th>G Statistic</th>\n",
       "      <th>True Entropy</th>\n",
       "      <th>KL-Divergence</th>\n",
       "    </tr>\n",
       "  </thead>\n",
       "  <tbody>\n",
       "    <tr>\n",
       "      <th>31</th>\n",
       "      <td>146</td>\n",
       "      <td>7.589041</td>\n",
       "      <td>7.986753</td>\n",
       "      <td>1.341304</td>\n",
       "      <td>0.042811</td>\n",
       "    </tr>\n",
       "    <tr>\n",
       "      <th>111</th>\n",
       "      <td>163</td>\n",
       "      <td>7.920245</td>\n",
       "      <td>7.903628</td>\n",
       "      <td>1.345452</td>\n",
       "      <td>0.044048</td>\n",
       "    </tr>\n",
       "    <tr>\n",
       "      <th>195</th>\n",
       "      <td>147</td>\n",
       "      <td>7.639456</td>\n",
       "      <td>7.667057</td>\n",
       "      <td>1.363392</td>\n",
       "      <td>0.023210</td>\n",
       "    </tr>\n",
       "    <tr>\n",
       "      <th>221</th>\n",
       "      <td>156</td>\n",
       "      <td>7.589744</td>\n",
       "      <td>7.816335</td>\n",
       "      <td>1.348677</td>\n",
       "      <td>0.041395</td>\n",
       "    </tr>\n",
       "    <tr>\n",
       "      <th>371</th>\n",
       "      <td>146</td>\n",
       "      <td>7.698630</td>\n",
       "      <td>7.791169</td>\n",
       "      <td>1.359850</td>\n",
       "      <td>0.026986</td>\n",
       "    </tr>\n",
       "  </tbody>\n",
       "</table>\n",
       "</div>"
      ],
      "text/plain": [
       "     Sample Size  Chi-Squared Statistic  G Statistic  True Entropy  \\\n",
       "31           146               7.589041     7.986753      1.341304   \n",
       "111          163               7.920245     7.903628      1.345452   \n",
       "195          147               7.639456     7.667057      1.363392   \n",
       "221          156               7.589744     7.816335      1.348677   \n",
       "371          146               7.698630     7.791169      1.359850   \n",
       "\n",
       "     KL-Divergence  \n",
       "31        0.042811  \n",
       "111       0.044048  \n",
       "195       0.023210  \n",
       "221       0.041395  \n",
       "371       0.026986  "
      ]
     },
     "execution_count": 493,
     "metadata": {},
     "output_type": "execute_result"
    }
   ],
   "source": [
    "df1 = df[(df['G Statistic'] > 7.5)&(df['G Statistic'] < 8)]\n",
    "df1.head()"
   ]
  },
  {
   "cell_type": "code",
   "execution_count": 491,
   "metadata": {},
   "outputs": [
    {
     "data": {
      "text/plain": [
       "<seaborn.axisgrid.JointGrid at 0x1da955e5908>"
      ]
     },
     "execution_count": 491,
     "metadata": {},
     "output_type": "execute_result"
    },
    {
     "data": {
      "image/png": "[encoded data removed]",
      "text/plain": [
       "<Figure size 432x432 with 3 Axes>"
      ]
     },
     "metadata": {
      "needs_background": "light"
     },
     "output_type": "display_data"
    }
   ],
   "source": [
    "sns.jointplot(x='Chi-Squared Statistic',y='G Statistic',data=df1,alpha=.25)"
   ]
  },
  {
   "cell_type": "markdown",
   "metadata": {},
   "source": [
    "Are there any cases where we reject one statistic but not the other? Let's actually check:"
   ]
  },
  {
   "cell_type": "code",
   "execution_count": 496,
   "metadata": {},
   "outputs": [
    {
     "data": {
      "text/html": [
       "<div>\n",
       "<style scoped>\n",
       "    .dataframe tbody tr th:only-of-type {\n",
       "        vertical-align: middle;\n",
       "    }\n",
       "\n",
       "    .dataframe tbody tr th {\n",
       "        vertical-align: top;\n",
       "    }\n",
       "\n",
       "    .dataframe thead th {\n",
       "        text-align: right;\n",
       "    }\n",
       "</style>\n",
       "<table border=\"1\" class=\"dataframe\">\n",
       "  <thead>\n",
       "    <tr style=\"text-align: right;\">\n",
       "      <th></th>\n",
       "      <th>Sample Size</th>\n",
       "      <th>Chi-Squared Statistic</th>\n",
       "      <th>G Statistic</th>\n",
       "      <th>True Entropy</th>\n",
       "      <th>KL-Divergence</th>\n",
       "    </tr>\n",
       "  </thead>\n",
       "  <tbody>\n",
       "    <tr>\n",
       "      <th>384</th>\n",
       "      <td>144</td>\n",
       "      <td>7.944444</td>\n",
       "      <td>7.533870</td>\n",
       "      <td>1.331278</td>\n",
       "      <td>0.060019</td>\n",
       "    </tr>\n",
       "    <tr>\n",
       "      <th>538</th>\n",
       "      <td>154</td>\n",
       "      <td>7.922078</td>\n",
       "      <td>7.520489</td>\n",
       "      <td>1.354695</td>\n",
       "      <td>0.035908</td>\n",
       "    </tr>\n",
       "    <tr>\n",
       "      <th>1047</th>\n",
       "      <td>155</td>\n",
       "      <td>8.070968</td>\n",
       "      <td>7.774479</td>\n",
       "      <td>1.366754</td>\n",
       "      <td>0.019741</td>\n",
       "    </tr>\n",
       "    <tr>\n",
       "      <th>1650</th>\n",
       "      <td>142</td>\n",
       "      <td>7.915493</td>\n",
       "      <td>7.341271</td>\n",
       "      <td>1.372387</td>\n",
       "      <td>0.014805</td>\n",
       "    </tr>\n",
       "    <tr>\n",
       "      <th>1925</th>\n",
       "      <td>159</td>\n",
       "      <td>8.018868</td>\n",
       "      <td>7.506661</td>\n",
       "      <td>1.349184</td>\n",
       "      <td>0.036243</td>\n",
       "    </tr>\n",
       "    <tr>\n",
       "      <th>3125</th>\n",
       "      <td>151</td>\n",
       "      <td>8.019868</td>\n",
       "      <td>7.652316</td>\n",
       "      <td>1.340214</td>\n",
       "      <td>0.047218</td>\n",
       "    </tr>\n",
       "    <tr>\n",
       "      <th>3404</th>\n",
       "      <td>130</td>\n",
       "      <td>7.907692</td>\n",
       "      <td>7.787211</td>\n",
       "      <td>1.379434</td>\n",
       "      <td>0.006921</td>\n",
       "    </tr>\n",
       "    <tr>\n",
       "      <th>3561</th>\n",
       "      <td>143</td>\n",
       "      <td>7.965035</td>\n",
       "      <td>7.488973</td>\n",
       "      <td>1.335387</td>\n",
       "      <td>0.049271</td>\n",
       "    </tr>\n",
       "    <tr>\n",
       "      <th>3856</th>\n",
       "      <td>140</td>\n",
       "      <td>8.000000</td>\n",
       "      <td>7.552828</td>\n",
       "      <td>1.338070</td>\n",
       "      <td>0.052064</td>\n",
       "    </tr>\n",
       "    <tr>\n",
       "      <th>3924</th>\n",
       "      <td>148</td>\n",
       "      <td>7.837838</td>\n",
       "      <td>7.754892</td>\n",
       "      <td>1.368947</td>\n",
       "      <td>0.017676</td>\n",
       "    </tr>\n",
       "    <tr>\n",
       "      <th>4073</th>\n",
       "      <td>157</td>\n",
       "      <td>7.968153</td>\n",
       "      <td>7.713403</td>\n",
       "      <td>1.354064</td>\n",
       "      <td>0.031234</td>\n",
       "    </tr>\n",
       "    <tr>\n",
       "      <th>4082</th>\n",
       "      <td>135</td>\n",
       "      <td>7.962963</td>\n",
       "      <td>7.606150</td>\n",
       "      <td>1.369049</td>\n",
       "      <td>0.017219</td>\n",
       "    </tr>\n",
       "    <tr>\n",
       "      <th>4411</th>\n",
       "      <td>141</td>\n",
       "      <td>7.851064</td>\n",
       "      <td>7.780582</td>\n",
       "      <td>1.379489</td>\n",
       "      <td>0.006626</td>\n",
       "    </tr>\n",
       "    <tr>\n",
       "      <th>5021</th>\n",
       "      <td>137</td>\n",
       "      <td>7.963504</td>\n",
       "      <td>7.721592</td>\n",
       "      <td>1.364141</td>\n",
       "      <td>0.021667</td>\n",
       "    </tr>\n",
       "    <tr>\n",
       "      <th>5161</th>\n",
       "      <td>146</td>\n",
       "      <td>7.917808</td>\n",
       "      <td>7.402600</td>\n",
       "      <td>1.372977</td>\n",
       "      <td>0.013191</td>\n",
       "    </tr>\n",
       "    <tr>\n",
       "      <th>5811</th>\n",
       "      <td>160</td>\n",
       "      <td>7.850000</td>\n",
       "      <td>7.393612</td>\n",
       "      <td>1.361829</td>\n",
       "      <td>0.024855</td>\n",
       "    </tr>\n",
       "    <tr>\n",
       "      <th>6250</th>\n",
       "      <td>137</td>\n",
       "      <td>8.197080</td>\n",
       "      <td>7.776337</td>\n",
       "      <td>1.333286</td>\n",
       "      <td>0.052047</td>\n",
       "    </tr>\n",
       "    <tr>\n",
       "      <th>8314</th>\n",
       "      <td>138</td>\n",
       "      <td>8.144928</td>\n",
       "      <td>7.540460</td>\n",
       "      <td>1.379600</td>\n",
       "      <td>0.006747</td>\n",
       "    </tr>\n",
       "    <tr>\n",
       "      <th>9069</th>\n",
       "      <td>158</td>\n",
       "      <td>7.822785</td>\n",
       "      <td>7.813767</td>\n",
       "      <td>1.373977</td>\n",
       "      <td>0.011817</td>\n",
       "    </tr>\n",
       "    <tr>\n",
       "      <th>9850</th>\n",
       "      <td>119</td>\n",
       "      <td>8.294118</td>\n",
       "      <td>7.749854</td>\n",
       "      <td>1.367883</td>\n",
       "      <td>0.018731</td>\n",
       "    </tr>\n",
       "    <tr>\n",
       "      <th>10209</th>\n",
       "      <td>155</td>\n",
       "      <td>8.225806</td>\n",
       "      <td>7.689703</td>\n",
       "      <td>1.377162</td>\n",
       "      <td>0.008837</td>\n",
       "    </tr>\n",
       "    <tr>\n",
       "      <th>10635</th>\n",
       "      <td>136</td>\n",
       "      <td>7.823529</td>\n",
       "      <td>7.279052</td>\n",
       "      <td>1.365020</td>\n",
       "      <td>0.021403</td>\n",
       "    </tr>\n",
       "    <tr>\n",
       "      <th>10882</th>\n",
       "      <td>160</td>\n",
       "      <td>8.100000</td>\n",
       "      <td>7.688283</td>\n",
       "      <td>1.366023</td>\n",
       "      <td>0.021131</td>\n",
       "    </tr>\n",
       "    <tr>\n",
       "      <th>10961</th>\n",
       "      <td>172</td>\n",
       "      <td>7.953488</td>\n",
       "      <td>7.622201</td>\n",
       "      <td>1.370463</td>\n",
       "      <td>0.015498</td>\n",
       "    </tr>\n",
       "    <tr>\n",
       "      <th>11832</th>\n",
       "      <td>137</td>\n",
       "      <td>8.080292</td>\n",
       "      <td>7.667540</td>\n",
       "      <td>1.366150</td>\n",
       "      <td>0.021736</td>\n",
       "    </tr>\n",
       "    <tr>\n",
       "      <th>12054</th>\n",
       "      <td>176</td>\n",
       "      <td>7.863636</td>\n",
       "      <td>7.362687</td>\n",
       "      <td>1.335331</td>\n",
       "      <td>0.048754</td>\n",
       "    </tr>\n",
       "    <tr>\n",
       "      <th>13021</th>\n",
       "      <td>165</td>\n",
       "      <td>8.163636</td>\n",
       "      <td>7.628254</td>\n",
       "      <td>1.364950</td>\n",
       "      <td>0.020577</td>\n",
       "    </tr>\n",
       "    <tr>\n",
       "      <th>13335</th>\n",
       "      <td>150</td>\n",
       "      <td>8.026667</td>\n",
       "      <td>7.597105</td>\n",
       "      <td>1.378663</td>\n",
       "      <td>0.007596</td>\n",
       "    </tr>\n",
       "    <tr>\n",
       "      <th>14419</th>\n",
       "      <td>174</td>\n",
       "      <td>7.839080</td>\n",
       "      <td>7.626578</td>\n",
       "      <td>1.379988</td>\n",
       "      <td>0.006599</td>\n",
       "    </tr>\n",
       "    <tr>\n",
       "      <th>14835</th>\n",
       "      <td>146</td>\n",
       "      <td>8.136986</td>\n",
       "      <td>7.649085</td>\n",
       "      <td>1.368028</td>\n",
       "      <td>0.019229</td>\n",
       "    </tr>\n",
       "    <tr>\n",
       "      <th>14905</th>\n",
       "      <td>115</td>\n",
       "      <td>7.956522</td>\n",
       "      <td>7.567983</td>\n",
       "      <td>1.332161</td>\n",
       "      <td>0.055450</td>\n",
       "    </tr>\n",
       "    <tr>\n",
       "      <th>15720</th>\n",
       "      <td>152</td>\n",
       "      <td>8.263158</td>\n",
       "      <td>7.752418</td>\n",
       "      <td>1.316387</td>\n",
       "      <td>0.068459</td>\n",
       "    </tr>\n",
       "    <tr>\n",
       "      <th>16081</th>\n",
       "      <td>150</td>\n",
       "      <td>8.133333</td>\n",
       "      <td>7.713088</td>\n",
       "      <td>1.339145</td>\n",
       "      <td>0.044159</td>\n",
       "    </tr>\n",
       "    <tr>\n",
       "      <th>16610</th>\n",
       "      <td>156</td>\n",
       "      <td>7.948718</td>\n",
       "      <td>7.644370</td>\n",
       "      <td>1.360571</td>\n",
       "      <td>0.027105</td>\n",
       "    </tr>\n",
       "    <tr>\n",
       "      <th>16835</th>\n",
       "      <td>155</td>\n",
       "      <td>7.967742</td>\n",
       "      <td>7.804379</td>\n",
       "      <td>1.373167</td>\n",
       "      <td>0.013123</td>\n",
       "    </tr>\n",
       "    <tr>\n",
       "      <th>16838</th>\n",
       "      <td>150</td>\n",
       "      <td>7.920000</td>\n",
       "      <td>7.787931</td>\n",
       "      <td>1.354395</td>\n",
       "      <td>0.031674</td>\n",
       "    </tr>\n",
       "    <tr>\n",
       "      <th>16917</th>\n",
       "      <td>165</td>\n",
       "      <td>7.872727</td>\n",
       "      <td>7.705563</td>\n",
       "      <td>1.369414</td>\n",
       "      <td>0.016158</td>\n",
       "    </tr>\n",
       "    <tr>\n",
       "      <th>17052</th>\n",
       "      <td>140</td>\n",
       "      <td>7.828571</td>\n",
       "      <td>7.345727</td>\n",
       "      <td>1.344612</td>\n",
       "      <td>0.043804</td>\n",
       "    </tr>\n",
       "    <tr>\n",
       "      <th>17692</th>\n",
       "      <td>136</td>\n",
       "      <td>7.823529</td>\n",
       "      <td>7.551962</td>\n",
       "      <td>1.342418</td>\n",
       "      <td>0.047665</td>\n",
       "    </tr>\n",
       "    <tr>\n",
       "      <th>17967</th>\n",
       "      <td>142</td>\n",
       "      <td>7.915493</td>\n",
       "      <td>7.634138</td>\n",
       "      <td>1.372600</td>\n",
       "      <td>0.013870</td>\n",
       "    </tr>\n",
       "    <tr>\n",
       "      <th>19657</th>\n",
       "      <td>139</td>\n",
       "      <td>8.194245</td>\n",
       "      <td>7.680578</td>\n",
       "      <td>1.362688</td>\n",
       "      <td>0.022771</td>\n",
       "    </tr>\n",
       "    <tr>\n",
       "      <th>19679</th>\n",
       "      <td>166</td>\n",
       "      <td>8.024096</td>\n",
       "      <td>7.541314</td>\n",
       "      <td>1.334472</td>\n",
       "      <td>0.048362</td>\n",
       "    </tr>\n",
       "    <tr>\n",
       "      <th>20946</th>\n",
       "      <td>155</td>\n",
       "      <td>8.225806</td>\n",
       "      <td>7.689703</td>\n",
       "      <td>1.371837</td>\n",
       "      <td>0.014887</td>\n",
       "    </tr>\n",
       "    <tr>\n",
       "      <th>20985</th>\n",
       "      <td>165</td>\n",
       "      <td>8.018182</td>\n",
       "      <td>7.687893</td>\n",
       "      <td>1.374435</td>\n",
       "      <td>0.011868</td>\n",
       "    </tr>\n",
       "    <tr>\n",
       "      <th>21607</th>\n",
       "      <td>155</td>\n",
       "      <td>8.122581</td>\n",
       "      <td>7.573720</td>\n",
       "      <td>1.377168</td>\n",
       "      <td>0.008873</td>\n",
       "    </tr>\n",
       "    <tr>\n",
       "      <th>21906</th>\n",
       "      <td>159</td>\n",
       "      <td>7.918239</td>\n",
       "      <td>7.393948</td>\n",
       "      <td>1.345016</td>\n",
       "      <td>0.039121</td>\n",
       "    </tr>\n",
       "    <tr>\n",
       "      <th>22237</th>\n",
       "      <td>142</td>\n",
       "      <td>7.915493</td>\n",
       "      <td>7.571078</td>\n",
       "      <td>1.383397</td>\n",
       "      <td>0.002966</td>\n",
       "    </tr>\n",
       "    <tr>\n",
       "      <th>22285</th>\n",
       "      <td>145</td>\n",
       "      <td>7.910345</td>\n",
       "      <td>7.593934</td>\n",
       "      <td>1.367877</td>\n",
       "      <td>0.018999</td>\n",
       "    </tr>\n",
       "    <tr>\n",
       "      <th>22608</th>\n",
       "      <td>159</td>\n",
       "      <td>7.867925</td>\n",
       "      <td>7.550426</td>\n",
       "      <td>1.359682</td>\n",
       "      <td>0.026215</td>\n",
       "    </tr>\n",
       "    <tr>\n",
       "      <th>22928</th>\n",
       "      <td>137</td>\n",
       "      <td>8.080292</td>\n",
       "      <td>7.667540</td>\n",
       "      <td>1.357199</td>\n",
       "      <td>0.028134</td>\n",
       "    </tr>\n",
       "    <tr>\n",
       "      <th>23073</th>\n",
       "      <td>170</td>\n",
       "      <td>8.117647</td>\n",
       "      <td>7.693354</td>\n",
       "      <td>1.379395</td>\n",
       "      <td>0.006946</td>\n",
       "    </tr>\n",
       "    <tr>\n",
       "      <th>24042</th>\n",
       "      <td>164</td>\n",
       "      <td>7.853659</td>\n",
       "      <td>7.695020</td>\n",
       "      <td>1.361172</td>\n",
       "      <td>0.024468</td>\n",
       "    </tr>\n",
       "    <tr>\n",
       "      <th>24970</th>\n",
       "      <td>151</td>\n",
       "      <td>7.966887</td>\n",
       "      <td>7.742643</td>\n",
       "      <td>1.343672</td>\n",
       "      <td>0.042708</td>\n",
       "    </tr>\n",
       "  </tbody>\n",
       "</table>\n",
       "</div>"
      ],
      "text/plain": [
       "       Sample Size  Chi-Squared Statistic  G Statistic  True Entropy  \\\n",
       "384            144               7.944444     7.533870      1.331278   \n",
       "538            154               7.922078     7.520489      1.354695   \n",
       "1047           155               8.070968     7.774479      1.366754   \n",
       "1650           142               7.915493     7.341271      1.372387   \n",
       "1925           159               8.018868     7.506661      1.349184   \n",
       "3125           151               8.019868     7.652316      1.340214   \n",
       "3404           130               7.907692     7.787211      1.379434   \n",
       "3561           143               7.965035     7.488973      1.335387   \n",
       "3856           140               8.000000     7.552828      1.338070   \n",
       "3924           148               7.837838     7.754892      1.368947   \n",
       "4073           157               7.968153     7.713403      1.354064   \n",
       "4082           135               7.962963     7.606150      1.369049   \n",
       "4411           141               7.851064     7.780582      1.379489   \n",
       "5021           137               7.963504     7.721592      1.364141   \n",
       "5161           146               7.917808     7.402600      1.372977   \n",
       "5811           160               7.850000     7.393612      1.361829   \n",
       "6250           137               8.197080     7.776337      1.333286   \n",
       "8314           138               8.144928     7.540460      1.379600   \n",
       "9069           158               7.822785     7.813767      1.373977   \n",
       "9850           119               8.294118     7.749854      1.367883   \n",
       "10209          155               8.225806     7.689703      1.377162   \n",
       "10635          136               7.823529     7.279052      1.365020   \n",
       "10882          160               8.100000     7.688283      1.366023   \n",
       "10961          172               7.953488     7.622201      1.370463   \n",
       "11832          137               8.080292     7.667540      1.366150   \n",
       "12054          176               7.863636     7.362687      1.335331   \n",
       "13021          165               8.163636     7.628254      1.364950   \n",
       "13335          150               8.026667     7.597105      1.378663   \n",
       "14419          174               7.839080     7.626578      1.379988   \n",
       "14835          146               8.136986     7.649085      1.368028   \n",
       "14905          115               7.956522     7.567983      1.332161   \n",
       "15720          152               8.263158     7.752418      1.316387   \n",
       "16081          150               8.133333     7.713088      1.339145   \n",
       "16610          156               7.948718     7.644370      1.360571   \n",
       "16835          155               7.967742     7.804379      1.373167   \n",
       "16838          150               7.920000     7.787931      1.354395   \n",
       "16917          165               7.872727     7.705563      1.369414   \n",
       "17052          140               7.828571     7.345727      1.344612   \n",
       "17692          136               7.823529     7.551962      1.342418   \n",
       "17967          142               7.915493     7.634138      1.372600   \n",
       "19657          139               8.194245     7.680578      1.362688   \n",
       "19679          166               8.024096     7.541314      1.334472   \n",
       "20946          155               8.225806     7.689703      1.371837   \n",
       "20985          165               8.018182     7.687893      1.374435   \n",
       "21607          155               8.122581     7.573720      1.377168   \n",
       "21906          159               7.918239     7.393948      1.345016   \n",
       "22237          142               7.915493     7.571078      1.383397   \n",
       "22285          145               7.910345     7.593934      1.367877   \n",
       "22608          159               7.867925     7.550426      1.359682   \n",
       "22928          137               8.080292     7.667540      1.357199   \n",
       "23073          170               8.117647     7.693354      1.379395   \n",
       "24042          164               7.853659     7.695020      1.361172   \n",
       "24970          151               7.966887     7.742643      1.343672   \n",
       "\n",
       "       KL-Divergence  \n",
       "384         0.060019  \n",
       "538         0.035908  \n",
       "1047        0.019741  \n",
       "1650        0.014805  \n",
       "1925        0.036243  \n",
       "3125        0.047218  \n",
       "3404        0.006921  \n",
       "3561        0.049271  \n",
       "3856        0.052064  \n",
       "3924        0.017676  \n",
       "4073        0.031234  \n",
       "4082        0.017219  \n",
       "4411        0.006626  \n",
       "5021        0.021667  \n",
       "5161        0.013191  \n",
       "5811        0.024855  \n",
       "6250        0.052047  \n",
       "8314        0.006747  \n",
       "9069        0.011817  \n",
       "9850        0.018731  \n",
       "10209       0.008837  \n",
       "10635       0.021403  \n",
       "10882       0.021131  \n",
       "10961       0.015498  \n",
       "11832       0.021736  \n",
       "12054       0.048754  \n",
       "13021       0.020577  \n",
       "13335       0.007596  \n",
       "14419       0.006599  \n",
       "14835       0.019229  \n",
       "14905       0.055450  \n",
       "15720       0.068459  \n",
       "16081       0.044159  \n",
       "16610       0.027105  \n",
       "16835       0.013123  \n",
       "16838       0.031674  \n",
       "16917       0.016158  \n",
       "17052       0.043804  \n",
       "17692       0.047665  \n",
       "17967       0.013870  \n",
       "19657       0.022771  \n",
       "19679       0.048362  \n",
       "20946       0.014887  \n",
       "20985       0.011868  \n",
       "21607       0.008873  \n",
       "21906       0.039121  \n",
       "22237       0.002966  \n",
       "22285       0.018999  \n",
       "22608       0.026215  \n",
       "22928       0.028134  \n",
       "23073       0.006946  \n",
       "24042       0.024468  \n",
       "24970       0.042708  "
      ]
     },
     "execution_count": 496,
     "metadata": {},
     "output_type": "execute_result"
    }
   ],
   "source": [
    "#Chisq rejects, G accepts\n",
    "df[(df['Chi-Squared Statistic'] > crit_val) & (df['G Statistic'] <= crit_val)]"
   ]
  },
  {
   "cell_type": "code",
   "execution_count": 497,
   "metadata": {},
   "outputs": [
    {
     "data": {
      "text/html": [
       "<div>\n",
       "<style scoped>\n",
       "    .dataframe tbody tr th:only-of-type {\n",
       "        vertical-align: middle;\n",
       "    }\n",
       "\n",
       "    .dataframe tbody tr th {\n",
       "        vertical-align: top;\n",
       "    }\n",
       "\n",
       "    .dataframe thead th {\n",
       "        text-align: right;\n",
       "    }\n",
       "</style>\n",
       "<table border=\"1\" class=\"dataframe\">\n",
       "  <thead>\n",
       "    <tr style=\"text-align: right;\">\n",
       "      <th></th>\n",
       "      <th>Sample Size</th>\n",
       "      <th>Chi-Squared Statistic</th>\n",
       "      <th>G Statistic</th>\n",
       "      <th>True Entropy</th>\n",
       "      <th>KL-Divergence</th>\n",
       "    </tr>\n",
       "  </thead>\n",
       "  <tbody>\n",
       "    <tr>\n",
       "      <th>31</th>\n",
       "      <td>146</td>\n",
       "      <td>7.589041</td>\n",
       "      <td>7.986753</td>\n",
       "      <td>1.341304</td>\n",
       "      <td>0.042811</td>\n",
       "    </tr>\n",
       "    <tr>\n",
       "      <th>200</th>\n",
       "      <td>142</td>\n",
       "      <td>7.690141</td>\n",
       "      <td>8.051369</td>\n",
       "      <td>1.343388</td>\n",
       "      <td>0.044275</td>\n",
       "    </tr>\n",
       "    <tr>\n",
       "      <th>221</th>\n",
       "      <td>156</td>\n",
       "      <td>7.589744</td>\n",
       "      <td>7.816335</td>\n",
       "      <td>1.348677</td>\n",
       "      <td>0.041395</td>\n",
       "    </tr>\n",
       "    <tr>\n",
       "      <th>360</th>\n",
       "      <td>152</td>\n",
       "      <td>7.736842</td>\n",
       "      <td>8.376188</td>\n",
       "      <td>1.374666</td>\n",
       "      <td>0.011810</td>\n",
       "    </tr>\n",
       "    <tr>\n",
       "      <th>744</th>\n",
       "      <td>154</td>\n",
       "      <td>7.506494</td>\n",
       "      <td>8.265067</td>\n",
       "      <td>1.331552</td>\n",
       "      <td>0.066212</td>\n",
       "    </tr>\n",
       "    <tr>\n",
       "      <th>...</th>\n",
       "      <td>...</td>\n",
       "      <td>...</td>\n",
       "      <td>...</td>\n",
       "      <td>...</td>\n",
       "      <td>...</td>\n",
       "    </tr>\n",
       "    <tr>\n",
       "      <th>24135</th>\n",
       "      <td>138</td>\n",
       "      <td>7.101449</td>\n",
       "      <td>7.889882</td>\n",
       "      <td>1.371991</td>\n",
       "      <td>0.014792</td>\n",
       "    </tr>\n",
       "    <tr>\n",
       "      <th>24493</th>\n",
       "      <td>136</td>\n",
       "      <td>7.352941</td>\n",
       "      <td>7.995040</td>\n",
       "      <td>1.376914</td>\n",
       "      <td>0.009512</td>\n",
       "    </tr>\n",
       "    <tr>\n",
       "      <th>24570</th>\n",
       "      <td>142</td>\n",
       "      <td>7.802817</td>\n",
       "      <td>8.227883</td>\n",
       "      <td>1.341044</td>\n",
       "      <td>0.048107</td>\n",
       "    </tr>\n",
       "    <tr>\n",
       "      <th>24859</th>\n",
       "      <td>155</td>\n",
       "      <td>7.812903</td>\n",
       "      <td>8.592655</td>\n",
       "      <td>1.356257</td>\n",
       "      <td>0.033677</td>\n",
       "    </tr>\n",
       "    <tr>\n",
       "      <th>24866</th>\n",
       "      <td>149</td>\n",
       "      <td>7.322148</td>\n",
       "      <td>8.112822</td>\n",
       "      <td>1.373817</td>\n",
       "      <td>0.012286</td>\n",
       "    </tr>\n",
       "  </tbody>\n",
       "</table>\n",
       "<p>159 rows × 5 columns</p>\n",
       "</div>"
      ],
      "text/plain": [
       "       Sample Size  Chi-Squared Statistic  G Statistic  True Entropy  \\\n",
       "31             146               7.589041     7.986753      1.341304   \n",
       "200            142               7.690141     8.051369      1.343388   \n",
       "221            156               7.589744     7.816335      1.348677   \n",
       "360            152               7.736842     8.376188      1.374666   \n",
       "744            154               7.506494     8.265067      1.331552   \n",
       "...            ...                    ...          ...           ...   \n",
       "24135          138               7.101449     7.889882      1.371991   \n",
       "24493          136               7.352941     7.995040      1.376914   \n",
       "24570          142               7.802817     8.227883      1.341044   \n",
       "24859          155               7.812903     8.592655      1.356257   \n",
       "24866          149               7.322148     8.112822      1.373817   \n",
       "\n",
       "       KL-Divergence  \n",
       "31          0.042811  \n",
       "200         0.044275  \n",
       "221         0.041395  \n",
       "360         0.011810  \n",
       "744         0.066212  \n",
       "...              ...  \n",
       "24135       0.014792  \n",
       "24493       0.009512  \n",
       "24570       0.048107  \n",
       "24859       0.033677  \n",
       "24866       0.012286  \n",
       "\n",
       "[159 rows x 5 columns]"
      ]
     },
     "execution_count": 497,
     "metadata": {},
     "output_type": "execute_result"
    }
   ],
   "source": [
    "#Chisq doesnt reject, G does\n",
    "df[(df['Chi-Squared Statistic'] <= crit_val) & (df['G Statistic'] > crit_val)]"
   ]
  },
  {
   "cell_type": "markdown",
   "metadata": {},
   "source": [
    "So out of all of the 25,000 runs of the simulation, there's only about 200 cases where this happens. Looking at the marginals for the jointplot, the Chi-Squared Distribution appears 'bell-shaped' whereas the G Statistic appears more uniform within this range. "
   ]
  }
 ],
 "metadata": {
  "kernelspec": {
   "display_name": "Python 3",
   "language": "python",
   "name": "python3"
  },
  "language_info": {
   "codemirror_mode": {
    "name": "ipython",
    "version": 3
   },
   "file_extension": ".py",
   "mimetype": "text/x-python",
   "name": "python",
   "nbconvert_exporter": "python",
   "pygments_lexer": "ipython3",
   "version": "3.7.3"
  }
 },
 "nbformat": 4,
 "nbformat_minor": 2
}
